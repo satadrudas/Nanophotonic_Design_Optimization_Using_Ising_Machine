{
 "cells": [
  {
   "attachments": {},
   "cell_type": "markdown",
   "metadata": {},
   "source": [
    "# Inverse Design of a Directional Coupler (2D)"
   ]
  },
  {
   "cell_type": "code",
   "execution_count": 1,
   "metadata": {},
   "outputs": [
    {
     "name": "stdout",
     "output_type": "stream",
     "text": [
      "1.27.0\n",
      "\u001b[32m2023-09-29 23:42:22.675\u001b[0m | \u001b[1mINFO    \u001b[0m | \u001b[36mgdsfactory.config\u001b[0m:\u001b[36m__init__\u001b[0m:\u001b[36m214\u001b[0m - \u001b[1mLogLevel: INFO\u001b[0m\n",
      "\u001b[32m2023-09-29 23:42:24.531\u001b[0m | \u001b[1mINFO    \u001b[0m | \u001b[36mgplugins.gmeep\u001b[0m:\u001b[36m<module>\u001b[0m:\u001b[36m39\u001b[0m - \u001b[1mMeep '1.27.0' installed at ['/home/satadrudas/anaconda3/envs/meep/lib/python3.11/site-packages/meep']\u001b[0m\n"
     ]
    }
   ],
   "source": [
    "import meep as mp\n",
    "print(mp.__version__)\n",
    "import meep.adjoint as mpa\n",
    "import numpy as np\n",
    "from autograd import numpy as npa, tensor_jacobian_product, grad\n",
    "\n",
    "from matplotlib import pyplot as plt\n",
    "from matplotlib.patches import Circle\n",
    "\n",
    "import gdsfactory as gf\n",
    "from gdsfactory.generic_tech import get_generic_pdk\n",
    "\n",
    "import gplugins\n",
    "import gplugins.gmeep as gm\n",
    "\n",
    "gf.config.rich_output()\n",
    "\n",
    "\n",
    "import nlopt\n",
    "from IPython.display import Video\n",
    "from typing import NamedTuple"
   ]
  },
  {
   "cell_type": "code",
   "execution_count": 2,
   "metadata": {},
   "outputs": [],
   "source": [
    "seed = np.random.randint(100000)\n",
    "np.random.seed(seed)\n",
    "mp.verbosity(0)\n",
    "Si = mp.Medium(index=3.4)\n",
    "SiO2 = mp.Medium(index=1.44)\n",
    "\n",
    "waveguide_width = 0.5 # (μm)\n",
    "design_region_length = 10 # (μm)\n",
    "design_region_width = 3 # (μm)\n",
    "\n",
    "\n",
    "arm_separation = 2.5 # (μm) distance between arms center to center\n",
    "waveguide_length = 0.5 # (μm)\n",
    "pml_size = 1.0 # (μm)\n",
    "resolution = 20 # (pixels/μm)"
   ]
  },
  {
   "cell_type": "code",
   "execution_count": 3,
   "metadata": {},
   "outputs": [],
   "source": [
    "minimum_length = 0.09 # (μm)\n",
    "eta_e = 0.75\n",
    "#filter_radius = mpa.get_conic_radius_from_eta_e(minimum_length,eta_e) # (μm)\n",
    "\n",
    "filter_radius=minimum_length\n",
    "\n",
    "eta_i = 0.5\n",
    "eta_d = 1-eta_e\n",
    "design_region_resolution = int(resolution) # (pixels/μm)\n",
    "frequencies = 1/np.linspace(1.5,1.6,5) # (1/μm)\n",
    "\n",
    "Nx = int(design_region_resolution*design_region_length)+1\n",
    "Ny = int(design_region_resolution*design_region_width)+1\n",
    "\n",
    "design_variables = mp.MaterialGrid(mp.Vector3(Nx,Ny),mp.air,Si)\n",
    "design_region = mpa.DesignRegion(design_variables,\n",
    "    volume=mp.Volume(center=mp.Vector3(), size=mp.Vector3(design_region_length, design_region_width)))"
   ]
  },
  {
   "cell_type": "code",
   "execution_count": 27,
   "metadata": {},
   "outputs": [
    {
     "data": {
      "image/png": "[encoded data removed]"
     },
     "execution_count": 27,
     "metadata": {},
     "output_type": "execute_result"
    },
    {
     "data": {
      "image/png": "[encoded data removed]"
     },
     "metadata": {},
     "output_type": "display_data"
    }
   ],
   "source": [
    "c  = gf.Component(\"mmi2x2\")\n",
    "\n",
    "sbend= gf.components.bend_s\n",
    "sbend_x=5.0\n",
    "sbend_y=1.0\n",
    "s_bend=gf.get_component(sbend,size=[sbend_x, sbend_y], npoints=99, cross_section='strip', check_min_radius=False )\n",
    "\n",
    "\n",
    "taper_length=1.0\n",
    "taper = gf.components.taper(length=taper_length, width1=waveguide_width, width2=waveguide_width+0.2, cross_section='strip')\n",
    "\n",
    "\n",
    "\n",
    "\n",
    "\n",
    "bot_left_s_bend = c << s_bend\n",
    "bot_left_s_bend.move(bot_left_s_bend.ports[\"o2\"],  (-design_region_length/2 - taper_length, -arm_separation/2))\n",
    "bot_left_taper = c << taper\n",
    "bot_left_taper.move(bot_left_taper.ports[\"o2\"],  (-design_region_length/2, -arm_separation/2))\n",
    "bot_left_s_bend.connect(\"o2\", destination=bot_left_taper.ports[\"o1\"])\n",
    "#bot_left_taper.connect(\"o1\",destination=bot_left_s_bend[\"o2\"])\n",
    "\n",
    "top_left_s_bend = c << s_bend.mirror()\n",
    "top_left_s_bend.move(top_left_s_bend.ports[\"o2\"],  (-design_region_length/2 - taper_length, arm_separation/2))\n",
    "top_left_taper = c << taper\n",
    "top_left_taper.move(top_left_taper.ports[\"o2\"],  (-design_region_length/2, arm_separation/2))\n",
    "top_left_s_bend.connect(\"o1\", destination=top_left_taper.ports[\"o1\"])\n",
    "\n",
    "bot_right_s_bend = c << s_bend.mirror()\n",
    "bot_right_s_bend.move(bot_right_s_bend.ports[\"o2\"],  (design_region_length/2 + taper_length, -arm_separation/2))\n",
    "bot_right_taper = c << taper.mirror()\n",
    "bot_right_taper.move(bot_right_taper.ports[\"o2\"],  (design_region_length/2, -arm_separation/2))\n",
    "bot_right_s_bend.connect(\"o1\", destination=bot_right_taper.ports[\"o1\"])\n",
    "\n",
    "\n",
    "top_right_s_bend = c << s_bend\n",
    "top_right_s_bend.move(top_right_s_bend.ports[\"o1\"],  (design_region_length/2 + taper_length, arm_separation/2))\n",
    "top_right_taper = c << taper.mirror()\n",
    "top_right_taper.move(top_right_taper.ports[\"o2\"],  (design_region_length/2, arm_separation/2))\n",
    "top_right_s_bend.connect(\"o1\", destination=top_right_taper.ports[\"o1\"])\n",
    "\n",
    "\n",
    "c.add_port(\"o1\",port=top_left_s_bend[\"o2\"])\n",
    "c.add_port(\"o2\", port=top_right_s_bend[\"o2\"])\n",
    "c.add_port(\"o3\", port=bot_right_s_bend[\"o2\"])\n",
    "c.add_port(\"o4\", port=bot_left_s_bend[\"o1\"])\n",
    "\n",
    "c.plot_klayout()\n"
   ]
  },
  {
   "cell_type": "code",
   "execution_count": 33,
   "metadata": {},
   "outputs": [],
   "source": [
    "Sx = 2*pml_size + 2*(sbend_x + taper_length) + design_region_length+5 # cell size in X\n",
    "Sy = 2*pml_size + design_region_width + 2 * sbend_y+1# cell size in Y\n",
    "cell_size = mp.Vector3(Sx,Sy)\n",
    "\n",
    "seed = 240\n",
    "np.random.seed(seed)\n",
    "\n",
    "\n",
    "\n",
    "fcen = 1/1.55\n",
    "width = 0.2\n",
    "fwidth = width * fcen\n",
    "#source_center  = [-Sx/2 + pml_size + waveguide_length/3,arm_separation/2,0]\n",
    "source_size    = mp.Vector3(0,2,0)\n",
    "kpoint = mp.Vector3(1,0,0)\n",
    "\n",
    "source_center1  = [-Sx/2 + pml_size + waveguide_length/3,arm_separation/2,0]\n",
    "source_center2  = [-Sx/2 + pml_size + waveguide_length/3,-arm_separation/2,0]\n",
    "\n",
    "pml_layers = [mp.PML(pml_size)]\n"
   ]
  },
  {
   "cell_type": "code",
   "execution_count": 34,
   "metadata": {},
   "outputs": [],
   "source": [
    "def mapping(x,eta,beta):\n",
    "    \n",
    "    x = (npa.fliplr(x.reshape(Nx,Ny)) + x.reshape(Nx,Ny))/2 # up-down symmetry\n",
    "    x = (npa.flipud(x.reshape(Nx,Ny)) + x.reshape(Nx,Ny))/2 # left-right symmetry\n",
    "    \n",
    "    # filter\n",
    "    filtered_field = mpa.conic_filter(x, filter_radius,design_region_length,design_region_width,design_region_resolution)\n",
    "    \n",
    "    #filtered_field = mpa.cylindrical_filter(x, filter_radius,design_region_length,design_region_width,design_region_resolution)\n",
    "    \n",
    "    # projection\n",
    "    projected_field = mpa.tanh_projection(filtered_field,beta,eta)\n",
    "    \n",
    "    # interpolate to actual materials\n",
    "    return projected_field.flatten()\n",
    "\n",
    "\n",
    "\n",
    "\n",
    "\n",
    "\n",
    "def straight_waveguide() -> (np.ndarray, NamedTuple):\n",
    "    \"\"\"Computes the DFT fields from the mode source in a straight waveguide\n",
    "       for use as normalization of the reflectance measurement during the\n",
    "       optimization.\n",
    "\n",
    "    Returns:\n",
    "      A 2-tuple consisting of a 1d array of DFT fields and DFT fields object\n",
    "      returned by `meep.get_flux_data`.\n",
    "    \"\"\"\n",
    "\n",
    " \n",
    "\n",
    "    Sx = 2*pml_size + 3 +1 # cell size in X\n",
    "    Sy = 2*pml_size + 4*waveguide_width  # cell size in Y\n",
    "\n",
    "    refl_pt =mp.Vector3(Sx/2 - pml_size-0.1)\n",
    "    stop_cond = mp.stop_when_fields_decayed(50, mp.Ez, refl_pt, 1e-8)\n",
    "\n",
    "    cell_size = mp.Vector3(Sx,Sy)\n",
    "\n",
    "    sources = [\n",
    "        mp.EigenModeSource(\n",
    "            src=mp.GaussianSource(fcen, fwidth=fwidth),\n",
    "            size=source_size,\n",
    "            center=mp.Vector3(x= -Sx/2 + pml_size + 0.1),\n",
    "            eig_band=1,\n",
    "        )\n",
    "    ]\n",
    "\n",
    "    geometry = [\n",
    "        mp.Block(\n",
    "            size=mp.Vector3(mp.inf, waveguide_width),\n",
    "            center=mp.Vector3(),\n",
    "            material=Si,\n",
    "        )\n",
    "    ]\n",
    "\n",
    "    sim = mp.Simulation(\n",
    "        resolution=resolution,\n",
    "        default_material=mp.air,\n",
    "        cell_size=cell_size,\n",
    "        sources=sources,\n",
    "        geometry=geometry,\n",
    "        boundary_layers=pml_layers,\n",
    "        k_point=mp.Vector3(),\n",
    "    )\n",
    "\n",
    "    refl_mon = sim.add_mode_monitor(\n",
    "        frequencies,\n",
    "        mp.ModeRegion(center= refl_pt, size=source_size),\n",
    "        yee_grid=True,\n",
    "    )\n",
    "\n",
    "    sim.run(until_after_sources=stop_cond)\n",
    "\n",
    "    res = sim.get_eigenmode_coefficients(\n",
    "        refl_mon,\n",
    "        [1],\n",
    "    )\n",
    "\n",
    "    coeffs = res.alpha\n",
    "    input_flux = np.abs(coeffs[0, :, 0]) ** 2\n",
    "    input_flux_data = sim.get_flux_data(refl_mon)\n",
    "\n",
    "    return input_flux, input_flux_data"
   ]
  },
  {
   "cell_type": "code",
   "execution_count": 46,
   "metadata": {},
   "outputs": [
    {
     "name": "stdout",
     "output_type": "stream",
     "text": [
      "\u001b[32m2023-09-30 07:37:56.410\u001b[0m | \u001b[33m\u001b[1mWARNING \u001b[0m | \u001b[36mgdsfactory.klive\u001b[0m:\u001b[36mshow\u001b[0m:\u001b[36m48\u001b[0m - \u001b[33m\u001b[1mCould not connect to klive server. Is klayout open and klive plugin installed?\u001b[0m\n"
     ]
    },
    {
     "data": {
      "image/png": "[encoded data removed]"
     },
     "metadata": {},
     "output_type": "display_data"
    }
   ],
   "source": [
    "\n",
    "x0 = mapping(\n",
    "    np.ones((Nx * Ny,)) * 0.0,\n",
    "    eta_i,\n",
    "    16,\n",
    ")\n",
    "\n",
    "input_flux, input_flux_data = straight_waveguide()\n",
    "\n",
    "def J(output,top_source,bottom_source):\n",
    "    power = npa.abs(output) ** 2 / (npa.abs(top_source)**2 + npa.abs(bottom_source)**2)\n",
    "    return npa.mean(power)\n",
    "\n",
    "pml_layers = [mp.PML(pml_size)]\n",
    "\n",
    "opt = gm.get_meep_adjoint_optimizer(\n",
    "    c,\n",
    "    J,\n",
    "    [design_region],\n",
    "    [design_variables],\n",
    "    x0,\n",
    "\n",
    "\n",
    "    resolution=resolution,\n",
    "    cell_size=cell_size,\n",
    "    tpml=pml_size,\n",
    "    extend_ports_length=7.0,\n",
    "    port_margin=1,\n",
    "    port_source_offset=0,\n",
    "    port_monitor_offset=0,\n",
    "    wavelength_start=1.5,\n",
    "    wavelength_stop= 1.6,\n",
    "    port_source_name= \"o2\",\n",
    "    wavelength_points=10,\n",
    "    \n",
    ")\n",
    "\n"
   ]
  },
  {
   "cell_type": "code",
   "execution_count": null,
   "metadata": {},
   "outputs": [],
   "source": []
  },
  {
   "cell_type": "code",
   "execution_count": null,
   "metadata": {},
   "outputs": [],
   "source": [
    "\n",
    "\n",
    "fcen = 1/1.55\n",
    "width = 0.2\n",
    "fwidth = width * fcen\n",
    "#source_center  = [-Sx/2 + pml_size + waveguide_length/3,arm_separation/2,0]\n",
    "source_size    = mp.Vector3(0,2,0)\n",
    "kpoint = mp.Vector3(1,0,0)\n",
    "\n",
    "source_center1  = [-Sx/2 + pml_size + waveguide_length/3,arm_separation/2,0]\n",
    "source_center2  = [-Sx/2 + pml_size + waveguide_length/3,-arm_separation/2,0]\n",
    "\n",
    "src = mp.GaussianSource(frequency=fcen,fwidth=fwidth)\n",
    "sources = [mp.EigenModeSource(src,\n",
    "                    eig_band = 1,\n",
    "                    direction=mp.NO_DIRECTION,\n",
    "                    eig_kpoint=kpoint,\n",
    "                    size = source_size,\n",
    "                    center=source_center1,\n",
    "                    amplitude=1.0),\n",
    "            mp.EigenModeSource(\n",
    "                    src,\n",
    "                    eig_band=1,\n",
    "                    direction=mp.NO_DIRECTION,\n",
    "                    eig_kpoint=kpoint,\n",
    "                    size=source_size,\n",
    "                    center=source_center2,\n",
    "                    amplitude=0.0 - 1.0j\n",
    "    )]\n",
    "\n",
    "\n",
    "\n",
    "# src = mp.GaussianSource(frequency=fcen,fwidth=fwidth)\n",
    "# source = [mp.EigenModeSource(src,\n",
    "#                     eig_band = 1,\n",
    "#                     direction=mp.NO_DIRECTION,\n",
    "#                     eig_kpoint=kpoint,\n",
    "#                     size = source_size,\n",
    "#                     center=source_center)]\n",
    "\n",
    "\n",
    "\n",
    "\n",
    "\n",
    "geometry = [\n",
    "    mp.Block(center=mp.Vector3(x=-Sx/4, y=arm_separation/2), material=Si, size=mp.Vector3(Sx/2+1, waveguide_width, 0)), # top left waveguide\n",
    "    mp.Block(center=mp.Vector3(x=-Sx/4, y=-arm_separation/2), material=Si, size=mp.Vector3(Sx/2+1, waveguide_width, 0)), # bottom left waveguide\n",
    "    mp.Block(center=mp.Vector3(x=Sx/4, y=arm_separation/2), material=Si, size=mp.Vector3(Sx/2+1, waveguide_width, 0)), # top right waveguide\n",
    "    mp.Block(center=mp.Vector3(x=Sx/4, y=-arm_separation/2), material=Si, size=mp.Vector3(Sx/2+1, waveguide_width, 0)), # bottom right waveguide\n",
    "    mp.Block(center=design_region.center, size=design_region.size, material=design_variables)\n",
    "]\n",
    "\n",
    "sim = mp.Simulation(cell_size=cell_size,\n",
    "                    boundary_layers=pml_layers,\n",
    "                    geometry=geometry,\n",
    "                    sources=sources,\n",
    "                    #symmetries=[mp.Mirror(direction=mp.Y)],\n",
    "                    default_material=SiO2,\n",
    "                    resolution=resolution)\n",
    "sim.plot2D()"
   ]
  },
  {
   "cell_type": "code",
   "execution_count": null,
   "metadata": {},
   "outputs": [],
   "source": []
  },
  {
   "cell_type": "code",
   "execution_count": null,
   "metadata": {},
   "outputs": [],
   "source": [
    "design_region.update_design_parameters(mapping(np.random.rand(Nx,Ny),0.5,2))\n",
    "sim.plot2D()"
   ]
  },
  {
   "cell_type": "code",
   "execution_count": null,
   "metadata": {},
   "outputs": [],
   "source": [
    "design_region.update_design_parameters(mapping(np.random.rand(Nx,Ny),0.5,64))\n",
    "sim.plot2D()"
   ]
  },
  {
   "cell_type": "code",
   "execution_count": null,
   "metadata": {},
   "outputs": [],
   "source": [
    "mode = 1\n",
    "\n",
    "TE0 = mpa.EigenmodeCoefficient(sim,\n",
    "        mp.Volume(center=mp.Vector3(x=Sx/2 - pml_size - 2*waveguide_length/3, y=arm_separation/2),\n",
    "            size=mp.Vector3(y=2)),mode)\n",
    "TE_top = mpa.EigenmodeCoefficient(sim,\n",
    "        mp.Volume(center=mp.Vector3(-Sx/2 + pml_size + 2*waveguide_length/3,arm_separation/2,0),\n",
    "            size=mp.Vector3(y=arm_separation/2)),mode)\n",
    "TE_bottom = mpa.EigenmodeCoefficient(sim,\n",
    "        mp.Volume(center=mp.Vector3(-Sx/2 + pml_size + 2*waveguide_length/3,-arm_separation/2,0),\n",
    "            size=mp.Vector3(y=arm_separation/2)),mode)\n",
    "ob_list = [TE0,TE_top,TE_bottom]\n",
    "\n",
    "def J(output,top_source,bottom_source):\n",
    "    power = npa.abs(output) ** 2 / (npa.abs(top_source)**2 + npa.abs(bottom_source)**2)\n",
    "    return npa.mean(power)\n",
    "\n",
    "opt = mpa.OptimizationProblem(\n",
    "    simulation = sim,\n",
    "    objective_functions = J,\n",
    "    objective_arguments = ob_list,\n",
    "    design_regions = [design_region],\n",
    "    frequencies=frequencies\n",
    ")\n",
    "opt.plot2D(True)"
   ]
  },
  {
   "attachments": {},
   "cell_type": "markdown",
   "metadata": {},
   "source": [
    "## For the phase, 2 things must be considered: \n",
    "1. The top input and top output are inphase\n",
    "2. The top input and top output had a phase difference of pi/2 with the bottom waveguide\n",
    "\n",
    "That's why we use \"Phase injected topology optimization\" ( Read more here: https://pubs.acs.org/doi/abs/10.1021/acsphotonics.2c01016)"
   ]
  },
  {
   "cell_type": "code",
   "execution_count": null,
   "metadata": {},
   "outputs": [],
   "source": [
    "x0 = 0.5*np.ones((Nx,Ny)) #+ np.random.normal(loc=mean, scale=std, size=(Nx,Ny))\n",
    "\n",
    "#just for the same of a boundary value\n",
    "x0=np.where(x0>1,1,x0)\n",
    "x0=np.where(x0<0,0,x0)\n",
    "\n",
    "#x0 = np.random.rand(Nx,Ny)\n",
    "f0, g0 = opt([mapping(x0,0.5,2)])"
   ]
  },
  {
   "cell_type": "code",
   "execution_count": null,
   "metadata": {},
   "outputs": [],
   "source": [
    "plt.figure()\n",
    "print(g0.shape)\n",
    "plt.imshow(np.rot90(g0[:,0].reshape(Nx,Ny)))\n",
    "plt.colorbar()"
   ]
  },
  {
   "cell_type": "code",
   "execution_count": null,
   "metadata": {},
   "outputs": [],
   "source": [
    "from autograd import tensor_jacobian_product\n",
    "backprop_gradient = tensor_jacobian_product(mapping,0)(x0,0.5,2,g0[:,0])\n",
    "plt.imshow(np.rot90(backprop_gradient.reshape(Nx,Ny)))\n",
    "plt.colorbar()"
   ]
  },
  {
   "cell_type": "code",
   "execution_count": null,
   "metadata": {},
   "outputs": [],
   "source": [
    "import nlopt\n",
    "evaluation_history = []\n",
    "cur_iter = [0]\n",
    "def f(v, gradient, cur_beta):\n",
    "    print(\"Current iteration: {}\".format(cur_iter[0]+1))\n",
    "    \n",
    "    f0, dJ_du = opt([mapping(v,eta_i,cur_beta)])\n",
    "    \n",
    "    plt.figure()\n",
    "    ax = plt.gca()\n",
    "    opt.plot2D(False,ax=ax,plot_sources_flag=False,plot_monitors_flag=False,plot_boundaries_flag=False)\n",
    "    ax.axis('off')\n",
    "    plt.show()\n",
    "    \n",
    "    if gradient.size > 0:\n",
    "        gradient[:] = tensor_jacobian_product(mapping,0)(v,eta_i,cur_beta,np.sum(dJ_du,axis=1))\n",
    "    \n",
    "    evaluation_history.append(np.max(np.real(f0)))\n",
    "    \n",
    "    cur_iter[0] = cur_iter[0] + 1\n",
    "    \n",
    "    return np.real(f0)"
   ]
  },
  {
   "cell_type": "code",
   "execution_count": null,
   "metadata": {},
   "outputs": [],
   "source": [
    "algorithm = nlopt.LD_MMA\n",
    "n = Nx * Ny # number of parameters\n",
    "\n",
    "# Initial guess\n",
    "x = np.ones((n,)) * 0.5 # + np.random.normal(loc=mean, scale=std, size=(n,))\n",
    "#x = np.random.rand(n,) \n",
    "\n",
    "#just for the same of boundary value\n",
    "x=np.where(x>1,1,x)\n",
    "x=np.where(x<0,0,x)\n",
    "\n",
    "# lower and upper bounds\n",
    "lb = 0\n",
    "ub = 1\n",
    "\n",
    "cur_beta = 4\n",
    "beta_scale = 2\n",
    "num_betas = 6\n",
    "update_factor = 30\n",
    "for iters in range(num_betas):\n",
    "    print(\"current beta: \",cur_beta)\n",
    "    \n",
    "    solver = nlopt.opt(algorithm, n)\n",
    "    solver.set_lower_bounds(lb)\n",
    "    solver.set_upper_bounds(ub)\n",
    "    solver.set_max_objective(lambda a,g: f(a,g,cur_beta))\n",
    "    solver.set_maxeval(update_factor)\n",
    "    x[:] = solver.optimize(x)\n",
    "    cur_beta = cur_beta*beta_scale\n",
    "\n",
    "\n",
    "\n",
    "update_factor = 5\n",
    "num_beta=6\n",
    "print(\"----------------------------------------------------------------\")\n",
    "print('final binarization')\n",
    "    \n",
    "for iters in range(num_betas): # the main beta increment loop\n",
    "    print(\"current beta: \",cur_beta)\n",
    "    \n",
    "    solver = nlopt.opt(algorithm, n)\n",
    "    solver.set_lower_bounds(lb)\n",
    "    solver.set_upper_bounds(ub)\n",
    "    solver.set_max_objective(lambda a,g: f(a,g,cur_beta))\n",
    "    solver.set_maxeval(update_factor)\n",
    "    x[:] = solver.optimize(x) # iterates update_factor times\n",
    "    cur_beta = cur_beta*beta_scale"
   ]
  },
  {
   "cell_type": "code",
   "execution_count": null,
   "metadata": {},
   "outputs": [],
   "source": [
    "#################################################\n",
    "#SAVE THE design_region (x)\n",
    "#################################################\n",
    "\n",
    "np.save(\"design_15x4.npy\",x)"
   ]
  },
  {
   "cell_type": "code",
   "execution_count": null,
   "metadata": {},
   "outputs": [],
   "source": [
    "plt.matshow(x)"
   ]
  },
  {
   "cell_type": "code",
   "execution_count": null,
   "metadata": {},
   "outputs": [],
   "source": [
    "plt.figure()\n",
    "plt.plot(10*np.log10(np.array(1-evaluation_history)),'o-')\n",
    "plt.grid(True)\n",
    "plt.xlabel('Iteration')\n",
    "plt.ylabel('Insertion loss (dB)')\n",
    "plt.show()"
   ]
  },
  {
   "cell_type": "code",
   "execution_count": null,
   "metadata": {},
   "outputs": [],
   "source": [
    "\n",
    "src = mp.GaussianSource(frequency=fcen,fwidth=fwidth)\n",
    "source = [mp.EigenModeSource(src,\n",
    "                    eig_band = 1,\n",
    "                    direction=mp.NO_DIRECTION,\n",
    "                    eig_kpoint=kpoint,\n",
    "                    size = source_size,\n",
    "                    center=source_center1)]\n",
    "\n",
    "\n",
    "\n",
    "sim = mp.Simulation(cell_size=cell_size,\n",
    "                    boundary_layers=pml_layers,\n",
    "                    geometry=geometry,\n",
    "                    sources=source,\n",
    "                    #symmetries=[mp.Mirror(direction=mp.Y)],\n",
    "                    default_material=SiO2,\n",
    "                    resolution=resolution)\n",
    "\n",
    "\n",
    "mode = 1\n",
    "\n",
    "TE0 = mpa.EigenmodeCoefficient(sim,\n",
    "        mp.Volume(center=mp.Vector3(x=-Sx/2 + pml_size + 2*waveguide_length/3, y=arm_separation/2),\n",
    "            size=mp.Vector3(y=2)),mode)\n",
    "TE_top = mpa.EigenmodeCoefficient(sim,\n",
    "        mp.Volume(center=mp.Vector3(Sx/2 - pml_size - 2*waveguide_length/3,arm_separation/2,0),\n",
    "            size=mp.Vector3(y=arm_separation/2)),mode)\n",
    "TE_bottom = mpa.EigenmodeCoefficient(sim,\n",
    "        mp.Volume(center=mp.Vector3(Sx/2 - pml_size - 2*waveguide_length/3,-arm_separation/2,0),\n",
    "            size=mp.Vector3(y=arm_separation/2)),mode)\n",
    "ob_list = [TE0,TE_top,TE_bottom]\n",
    "\n",
    "def J2(input,top_output,bottom_output):\n",
    "    power = npa.abs(top_output/input) ** 2 + npa.abs(bottom_output/input) ** 2 \n",
    "    return npa.mean(power)\n",
    "\n",
    "opt = mpa.OptimizationProblem(\n",
    "    simulation = sim,\n",
    "    objective_functions = J2,\n",
    "    objective_arguments = ob_list,\n",
    "    design_regions = [design_region],\n",
    "    frequencies=frequencies\n",
    ")\n",
    "opt.plot2D(True)"
   ]
  },
  {
   "cell_type": "code",
   "execution_count": null,
   "metadata": {},
   "outputs": [],
   "source": [
    "f0, dJ_du = opt([mapping(x,eta_i,cur_beta)],need_gradient = False)\n",
    "frequencies = opt.frequencies\n",
    "source_coef, top_coef, bottom_ceof = opt.get_objective_arguments()\n",
    "\n",
    "top_profile = np.abs(top_coef/source_coef) ** 2\n",
    "bottom_profile = np.abs(bottom_ceof/source_coef) ** 2\n"
   ]
  },
  {
   "cell_type": "code",
   "execution_count": null,
   "metadata": {},
   "outputs": [],
   "source": [
    "plt.figure()\n",
    "plt.plot(1/frequencies,top_profile*100,'-o' ,label = 'Top Arm')\n",
    "plt.plot(1/frequencies,bottom_profile*100,'--o',label = 'Bottom Arm')\n",
    "plt.legend()\n",
    "plt.grid(True)\n",
    "plt.xlabel('Wavelength (microns)')\n",
    "plt.ylabel('Power Splitting Ratio (%)')\n",
    "#plt.ylim(46.5,50)\n",
    "plt.show()"
   ]
  },
  {
   "cell_type": "code",
   "execution_count": null,
   "metadata": {},
   "outputs": [],
   "source": [
    "plt.figure()\n",
    "plt.plot(1/frequencies,1-(np.abs(top_coef) ** 2 + np.abs(bottom_ceof) ** 2)/np.abs(source_coef) ** 2,'-o' ,label = 'Insertion loss')\n",
    "plt.legend()\n",
    "plt.grid(True)\n",
    "plt.xlabel('Wavelength (microns)')\n",
    "plt.ylabel('Insertion loss')\n",
    "#plt.ylim(46.5,50)\n",
    "plt.show()"
   ]
  },
  {
   "cell_type": "code",
   "execution_count": null,
   "metadata": {},
   "outputs": [],
   "source": [
    "plt.figure()\n",
    "plt.plot(1/frequencies,(np.abs(top_coef) ** 2 / np.abs(bottom_ceof) ** 2) ** 2,'-o' ,label = 'Output ration')\n",
    "plt.legend()\n",
    "plt.grid(True)\n",
    "plt.xlabel('Wavelength (microns)')\n",
    "plt.ylabel('Output power ration')\n",
    "#plt.ylim(46.5,50)\n",
    "plt.show()"
   ]
  },
  {
   "cell_type": "code",
   "execution_count": null,
   "metadata": {},
   "outputs": [],
   "source": [
    "src = mp.ContinuousSource(frequency=1 / 1.55, fwidth=fwidth)\n",
    "source = [\n",
    "    mp.EigenModeSource(\n",
    "        src,\n",
    "        eig_band=1,\n",
    "        direction=mp.NO_DIRECTION,\n",
    "        eig_kpoint=kpoint,\n",
    "        size=source_size,\n",
    "        center=source_center1,\n",
    "    )\n",
    "]\n",
    "opt.sim.change_sources(source)\n",
    "opt.sim.run(until=500)\n",
    "opt.sim.plot2D(fields=mp.Ez)"
   ]
  },
  {
   "cell_type": "code",
   "execution_count": null,
   "metadata": {},
   "outputs": [],
   "source": [
    "sim = mp.Simulation(cell_size=cell_size,\n",
    "                    boundary_layers=pml_layers,\n",
    "                    geometry=geometry,\n",
    "                    sources=source,\n",
    "                    #symmetries=[mp.Mirror(direction=mp.Y)],\n",
    "                    default_material=SiO2,\n",
    "                    resolution=resolution)"
   ]
  },
  {
   "cell_type": "code",
   "execution_count": null,
   "metadata": {},
   "outputs": [],
   "source": [
    "plt.figure(dpi=100)\n",
    "sim.plot2D()\n",
    "plt.show()"
   ]
  },
  {
   "cell_type": "code",
   "execution_count": null,
   "metadata": {},
   "outputs": [],
   "source": [
    "sim.run(until=300)\n"
   ]
  },
  {
   "cell_type": "code",
   "execution_count": null,
   "metadata": {},
   "outputs": [],
   "source": [
    "plt.figure(dpi=120)\n",
    "sim.plot2D(fields=mp.Ez)\n",
    "plt.show()"
   ]
  },
  {
   "cell_type": "code",
   "execution_count": null,
   "metadata": {},
   "outputs": [],
   "source": [
    "sim.reset_meep()\n",
    "f = plt.figure(dpi=100)\n",
    "Animate = mp.Animate2D(fields=mp.Ez, f=f, realtime=False, normalize=True)\n",
    "plt.close()"
   ]
  },
  {
   "cell_type": "code",
   "execution_count": null,
   "metadata": {},
   "outputs": [],
   "source": [
    "sim.run(mp.at_every(1, Animate), until=150)\n",
    "plt.close()"
   ]
  },
  {
   "cell_type": "code",
   "execution_count": null,
   "metadata": {},
   "outputs": [],
   "source": [
    "filename = \"dc_2d_15x4_1s.mp4\"\n",
    "Animate.to_mp4(10, filename)"
   ]
  },
  {
   "cell_type": "code",
   "execution_count": null,
   "metadata": {},
   "outputs": [],
   "source": [
    "Video(filename)\n"
   ]
  },
  {
   "cell_type": "code",
   "execution_count": null,
   "metadata": {},
   "outputs": [],
   "source": [
    "src = mp.ContinuousSource(frequency=1 / 1.55, fwidth=fwidth)\n",
    "sources = [mp.EigenModeSource(src,\n",
    "                    eig_band = 1,\n",
    "                    direction=mp.NO_DIRECTION,\n",
    "                    eig_kpoint=kpoint,\n",
    "                    size = source_size,\n",
    "                    center=source_center1,\n",
    "                    amplitude=1.0),\n",
    "            mp.EigenModeSource(\n",
    "                    src,\n",
    "                    eig_band=1,\n",
    "                    direction=mp.NO_DIRECTION,\n",
    "                    eig_kpoint=kpoint,\n",
    "                    size=source_size,\n",
    "                    center=source_center2,\n",
    "                    amplitude=0.0 - 1.0j\n",
    "    )]"
   ]
  },
  {
   "cell_type": "code",
   "execution_count": null,
   "metadata": {},
   "outputs": [],
   "source": [
    "sim = mp.Simulation(cell_size=cell_size,\n",
    "                    boundary_layers=pml_layers,\n",
    "                    geometry=geometry,\n",
    "                    sources=sources,\n",
    "                    #symmetries=[mp.Mirror(direction=mp.Y)],\n",
    "                    default_material=SiO2,\n",
    "                    resolution=resolution)\n",
    "\n",
    "plt.figure(dpi=100)\n",
    "sim.plot2D()\n",
    "plt.show()"
   ]
  },
  {
   "cell_type": "code",
   "execution_count": null,
   "metadata": {},
   "outputs": [],
   "source": [
    "sim.run(until=300)\n"
   ]
  },
  {
   "cell_type": "code",
   "execution_count": null,
   "metadata": {},
   "outputs": [],
   "source": [
    "plt.figure(dpi=120)\n",
    "sim.plot2D(fields=mp.Ez)\n",
    "plt.show()"
   ]
  },
  {
   "cell_type": "code",
   "execution_count": null,
   "metadata": {},
   "outputs": [],
   "source": [
    "sim.reset_meep()\n",
    "f = plt.figure(dpi=100)\n",
    "Animate = mp.Animate2D(fields=mp.Ez, f=f, realtime=False, normalize=True)\n",
    "plt.close()"
   ]
  },
  {
   "cell_type": "code",
   "execution_count": null,
   "metadata": {},
   "outputs": [],
   "source": [
    "sim.run(mp.at_every(1, Animate), until=300)\n",
    "plt.close()"
   ]
  },
  {
   "cell_type": "code",
   "execution_count": null,
   "metadata": {},
   "outputs": [],
   "source": [
    "filename = \"dc_2d_15x4_2s.mp4\"\n",
    "Animate.to_mp4(10, filename)"
   ]
  },
  {
   "cell_type": "code",
   "execution_count": null,
   "metadata": {},
   "outputs": [],
   "source": [
    "Video(filename)\n"
   ]
  },
  {
   "cell_type": "code",
   "execution_count": null,
   "metadata": {},
   "outputs": [],
   "source": []
  }
 ],
 "metadata": {
  "kernelspec": {
   "display_name": "meep",
   "language": "python",
   "name": "python3"
  },
  "language_info": {
   "codemirror_mode": {
    "name": "ipython",
    "version": 3
   },
   "file_extension": ".py",
   "mimetype": "text/x-python",
   "name": "python",
   "nbconvert_exporter": "python",
   "pygments_lexer": "ipython3",
   "version": "3.11.4"
  },
  "orig_nbformat": 4
 },
 "nbformat": 4,
 "nbformat_minor": 2
}
