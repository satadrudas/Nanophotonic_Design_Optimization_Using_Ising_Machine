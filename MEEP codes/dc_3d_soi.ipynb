{
 "cells": [
  {
   "attachments": {},
   "cell_type": "markdown",
   "metadata": {},
   "source": [
    "# 3D adjoint Optimization of a Integrated Photonic Directional Coupler"
   ]
  },
  {
   "cell_type": "code",
   "execution_count": 1,
   "metadata": {},
   "outputs": [
    {
     "name": "stdout",
     "output_type": "stream",
     "text": [
      "1.27.0\n"
     ]
    }
   ],
   "source": [
    "import meep as mp\n",
    "print(mp.__version__)\n",
    "import meep.adjoint as mpa\n",
    "import numpy as np\n",
    "from autograd import numpy as npa\n",
    "from matplotlib import pyplot as plt\n",
    "\n",
    "from IPython.display import Video"
   ]
  },
  {
   "cell_type": "code",
   "execution_count": 2,
   "metadata": {},
   "outputs": [],
   "source": [
    "seed = np.random.randint(100000)\n",
    "np.random.seed(seed)\n",
    "mp.verbosity(0)\n",
    "Si = mp.Medium(index=3.4)\n",
    "SiO2 = mp.Medium(index=1.44)\n",
    "Air = mp.Medium(index=1.0)\n",
    "\n",
    "design_region_length = 7 # (μm)\n",
    "design_region_width = 4 # (μm)\n",
    "design_region_thickness= 0.22\n",
    "\n",
    "\n",
    "arm_separation = design_region_width - 0.5 # (μm) distance between arms center to center\n",
    "waveguide_width = 0.5 # (μm)\n",
    "waveguide_length = 0.5 # (μm)\n",
    "waveguide_thickness = design_region_thickness\n",
    "\n",
    "soi_thickness = 1\n",
    "soi_length = 2*waveguide_length + design_region_length\n",
    "soi_width = design_region_width\n",
    "\n",
    "\n",
    "pml_size = 1.0 # (μm)\n",
    "resolution = 50 # (pixels/μm)"
   ]
  },
  {
   "cell_type": "code",
   "execution_count": 3,
   "metadata": {},
   "outputs": [],
   "source": [
    "minimum_length = 0.09 # (μm)\n",
    "eta_e = 0.75\n",
    "filter_radius = mpa.get_conic_radius_from_eta_e(minimum_length,eta_e) # (μm)\n",
    "\n",
    "#filter_radius=minimum_length\n",
    "\n",
    "eta_i = 0.5\n",
    "eta_d = 1-eta_e\n",
    "design_region_resolution = int(resolution) # (pixels/μm)\n",
    "frequencies = 1/np.linspace(1.5,1.6,5) # (1/μm)\n",
    "\n",
    "Nx = int(design_region_resolution*design_region_length)\n",
    "Ny = int(design_region_resolution*design_region_width)\n",
    "Nz = int(design_region_resolution*design_region_thickness)###\n",
    "\n",
    "design_variables = mp.MaterialGrid(mp.Vector3(Nx,Ny),Air,Si)### not giving a Nz because we want it to extent in the z axis so you give the z direction width in the volumn\n",
    "design_region = mpa.DesignRegion(design_variables,\n",
    "    volume=mp.Volume(center=mp.Vector3(), size=mp.Vector3(design_region_length, design_region_width, design_region_thickness)))###"
   ]
  },
  {
   "cell_type": "code",
   "execution_count": 6,
   "metadata": {},
   "outputs": [],
   "source": [
    "Sx = 2*pml_size + 2*waveguide_length + design_region_length+1 # cell size in X\n",
    "Sy = 2*pml_size + design_region_width + 1 # cell size in Y\n",
    "Sz = 2*pml_size + design_region_thickness + soi_thickness+ 1 # cell size in Z ###\n",
    "\n",
    "cell_size = mp.Vector3(Sx,Sy,Sz)\n",
    "\n",
    "pml_layers = [mp.PML(pml_size)]\n",
    "\n",
    "fcen = 1/1.55\n",
    "width = 0.2\n",
    "fwidth = width * fcen\n",
    "#source_center  = [-Sx/2 + pml_size + waveguide_length/3,arm_separation/2,0]\n",
    "source_size    = mp.Vector3(0,1,0.5)###\n",
    "kpoint = mp.Vector3(1,0,0)\n",
    "\n",
    "source_center1  = [-Sx/2 + pml_size + waveguide_length/3,arm_separation/2,0]\n",
    "source_center2  = [-Sx/2 + pml_size + waveguide_length/3,-arm_separation/2,0]\n",
    "\n",
    "src = mp.GaussianSource(frequency=fcen,fwidth=fwidth)\n",
    "sources = [mp.EigenModeSource(src,\n",
    "                    eig_band = 1,\n",
    "                    direction=mp.NO_DIRECTION,\n",
    "                    eig_kpoint=kpoint,\n",
    "                    size = source_size,\n",
    "                    center=source_center1,\n",
    "                    amplitude=1.0),\n",
    "            mp.EigenModeSource(\n",
    "                    src,\n",
    "                    eig_band=1,\n",
    "                    direction=mp.NO_DIRECTION,\n",
    "                    eig_kpoint=kpoint,\n",
    "                    size=source_size,\n",
    "                    center=source_center2,\n",
    "                    amplitude=0.0 - 1.0j\n",
    "    )]\n",
    "\n",
    "\n",
    "\n",
    "# src = mp.GaussianSource(frequency=fcen,fwidth=fwidth)\n",
    "# source = [mp.EigenModeSource(src,\n",
    "#                     eig_band = 1,\n",
    "#                     direction=mp.NO_DIRECTION,\n",
    "#                     eig_kpoint=kpoint,\n",
    "#                     size = source_size,\n",
    "#                     center=source_center)]\n",
    "\n",
    "\n",
    "\n",
    "\n",
    "\n",
    "geometry = [\n",
    "    mp.Block(center=mp.Vector3(x=-(design_region_length+waveguide_length)/2, y=arm_separation/2), material=Si, size=mp.Vector3(Sx/2+1, waveguide_width, waveguide_thickness)), # top left waveguide\n",
    "    mp.Block(center=mp.Vector3(x=-(design_region_length+waveguide_length)/2, y=-arm_separation/2), material=Si, size=mp.Vector3(Sx/2+1, waveguide_width, waveguide_thickness)), # bottom left waveguide\n",
    "    mp.Block(center=mp.Vector3(x=(design_region_length+waveguide_length)/2, y=arm_separation/2), material=Si, size=mp.Vector3(Sx/2+1, waveguide_width, waveguide_thickness)), # top right waveguide\n",
    "    mp.Block(center=mp.Vector3(x=(design_region_length+waveguide_length)/2, y=-arm_separation/2), material=Si, size=mp.Vector3(Sx/2+1, waveguide_width, waveguide_thickness)), # bottom right waveguide\n",
    "    mp.Block(center=design_region.center, size=design_region.size, material=design_variables), ## the size here extends the design region in z direction\n",
    "\n",
    "    mp.Block(center=mp.Vector3(0, 0, -(waveguide_thickness+soi_thickness)/2), material=SiO2, size=mp.Vector3(soi_length+2*pml_size, soi_width, soi_thickness)) # SOI\n",
    "\n",
    "]\n",
    "\n",
    "sim = mp.Simulation(cell_size=cell_size,\n",
    "                    boundary_layers=pml_layers,\n",
    "                    geometry=geometry,\n",
    "                    sources=sources,\n",
    "                    #symmetries=[mp.Mirror(direction=mp.Y)],\n",
    "                    default_material=SiO2,\n",
    "                    resolution=resolution)\n",
    "\n",
    "  "
   ]
  },
  {
   "cell_type": "code",
   "execution_count": 7,
   "metadata": {},
   "outputs": [
    {
     "name": "stderr",
     "output_type": "stream",
     "text": [
      "Warning: grid volume is not an integer number of pixels; cell size will be rounded to nearest pixel.\n"
     ]
    },
    {
     "data": {
      "text/plain": [
       "<Axes: xlabel='X', ylabel='Y'>"
      ]
     },
     "execution_count": 7,
     "metadata": {},
     "output_type": "execute_result"
    },
    {
     "data": {
      "image/png": "[encoded data removed]",
      "text/plain": [
       "<Figure size 640x480 with 1 Axes>"
      ]
     },
     "metadata": {},
     "output_type": "display_data"
    }
   ],
   "source": [
    "sim.plot2D(\n",
    "    output_plane = mp.Volume(\n",
    "        center = mp.Vector3(z=0),\n",
    "        size = mp.Vector3(x=Sx,y=Sy)\n",
    "    ))"
   ]
  },
  {
   "cell_type": "code",
   "execution_count": 8,
   "metadata": {},
   "outputs": [
    {
     "name": "stderr",
     "output_type": "stream",
     "text": [
      "Warning: grid volume is not an integer number of pixels; cell size will be rounded to nearest pixel.\n"
     ]
    },
    {
     "data": {
      "text/plain": [
       "<Axes: xlabel='X', ylabel='Z'>"
      ]
     },
     "execution_count": 8,
     "metadata": {},
     "output_type": "execute_result"
    },
    {
     "data": {
      "image/png": "[encoded data removed]",
      "text/plain": [
       "<Figure size 640x480 with 1 Axes>"
      ]
     },
     "metadata": {},
     "output_type": "display_data"
    }
   ],
   "source": [
    "sim.plot2D(\n",
    "    output_plane = mp.Volume(\n",
    "        center = mp.Vector3(y=arm_separation/2),\n",
    "        size = mp.Vector3(x=Sx,z=Sz)))"
   ]
  },
  {
   "cell_type": "code",
   "execution_count": 11,
   "metadata": {},
   "outputs": [
    {
     "name": "stderr",
     "output_type": "stream",
     "text": [
      "Warning: grid volume is not an integer number of pixels; cell size will be rounded to nearest pixel.\n"
     ]
    },
    {
     "data": {
      "text/plain": [
       "<Axes: xlabel='Y', ylabel='Z'>"
      ]
     },
     "execution_count": 11,
     "metadata": {},
     "output_type": "execute_result"
    },
    {
     "data": {
      "image/png": "[encoded data removed]",
      "text/plain": [
       "<Figure size 640x480 with 1 Axes>"
      ]
     },
     "metadata": {},
     "output_type": "display_data"
    }
   ],
   "source": [
    "sim.plot2D(\n",
    "    output_plane = mp.Volume(\n",
    "        center = mp.Vector3(x=-design_region_length/2-0.1), ## if x=0 then its the mid point hence no waveguide\n",
    "        size = mp.Vector3(y=Sy, z=Sz)\n",
    "    ))"
   ]
  },
  {
   "cell_type": "code",
   "execution_count": null,
   "metadata": {},
   "outputs": [],
   "source": [
    "def mapping(x,eta,beta):\n",
    "    \n",
    "    x = (npa.fliplr(x.reshape(Nx,Ny)) + x.reshape(Nx,Ny))/2 # up-down symmetry\n",
    "    x = (npa.flipud(x.reshape(Nx,Ny)) + x.reshape(Nx,Ny))/2 # left-right symmetry\n",
    "    \n",
    "    # filter\n",
    "    filtered_field = mpa.conic_filter(x, filter_radius,design_region_length,design_region_width,design_region_resolution)\n",
    "    \n",
    "    #filtered_field = mpa.cylindrical_filter(x, filter_radius,design_region_length,design_region_width,design_region_resolution)\n",
    "    \n",
    "    # projection\n",
    "    projected_field = mpa.tanh_projection(filtered_field,beta,eta)\n",
    "    \n",
    "    # interpolate to actual materials\n",
    "    return projected_field.flatten()"
   ]
  },
  {
   "cell_type": "code",
   "execution_count": null,
   "metadata": {},
   "outputs": [],
   "source": [
    "design_region.update_design_parameters(mapping(np.random.rand(Nx,Ny),0.5,5))\n",
    "sim.plot2D(\n",
    "    output_plane = mp.Volume(\n",
    "        center = mp.Vector3(z=0.0),\n",
    "        size = mp.Vector3(x=Sx,y=Sy)\n",
    "    ))"
   ]
  },
  {
   "cell_type": "code",
   "execution_count": null,
   "metadata": {},
   "outputs": [],
   "source": [
    "sim.plot2D(\n",
    "    output_plane = mp.Volume(\n",
    "        center = mp.Vector3(y=arm_separation/2),\n",
    "        size = mp.Vector3(x=Sx,z=Sz)))"
   ]
  },
  {
   "cell_type": "code",
   "execution_count": null,
   "metadata": {},
   "outputs": [],
   "source": [
    "sim.plot2D(\n",
    "    output_plane = mp.Volume(\n",
    "        center = mp.Vector3(x=0.0), ## if x=0 then its the mid point hence no waveguide\n",
    "        size = mp.Vector3(y=Sy, z=Sz)\n",
    "    ))"
   ]
  },
  {
   "cell_type": "code",
   "execution_count": null,
   "metadata": {},
   "outputs": [],
   "source": [
    "mode = 1\n",
    "motinor_z=0.5\n",
    "\n",
    "TE0 = mpa.EigenmodeCoefficient(sim,\n",
    "        mp.Volume(center=mp.Vector3(x=Sx/2 - pml_size - 2*waveguide_length/3, y=arm_separation/2),\n",
    "            size=mp.Vector3(y=2* waveguide_width, z=motinor_z)),mode)\n",
    "TE_top = mpa.EigenmodeCoefficient(sim,\n",
    "        mp.Volume(center=mp.Vector3(-Sx/2 + pml_size + 2*waveguide_length/3,arm_separation/2,0),\n",
    "            size=mp.Vector3(y=2* waveguide_width, z=motinor_z)),mode)\n",
    "TE_bottom = mpa.EigenmodeCoefficient(sim,\n",
    "        mp.Volume(center=mp.Vector3(-Sx/2 + pml_size + 2*waveguide_length/3,-arm_separation/2,0),\n",
    "            size=mp.Vector3(y=2* waveguide_width, z=motinor_z)),mode)\n",
    "ob_list = [TE0,TE_top,TE_bottom]\n",
    "\n",
    "def J(output,top_source,bottom_source):\n",
    "    power = npa.abs(output/top_source) ** 2 + npa.abs(output/bottom_source) ** 2 \n",
    "    return npa.mean(power)\n",
    "\n",
    "opt = mpa.OptimizationProblem(\n",
    "    simulation = sim,\n",
    "    objective_functions = J,\n",
    "    objective_arguments = ob_list,\n",
    "    design_regions = [design_region],\n",
    "    frequencies=frequencies\n",
    ")\n"
   ]
  },
  {
   "cell_type": "code",
   "execution_count": null,
   "metadata": {},
   "outputs": [],
   "source": [
    "opt.plot2D(True, output_plane = mp.Volume(\n",
    "        center = mp.Vector3(z=0.0),\n",
    "        size = mp.Vector3(x=Sx,y=Sy)\n",
    "    ))"
   ]
  },
  {
   "cell_type": "code",
   "execution_count": null,
   "metadata": {},
   "outputs": [],
   "source": [
    "opt.plot2D(True,\n",
    "    output_plane = mp.Volume(\n",
    "        center = mp.Vector3(y=arm_separation/2),\n",
    "        size = mp.Vector3(x=Sx,z=Sz)))"
   ]
  },
  {
   "cell_type": "code",
   "execution_count": null,
   "metadata": {},
   "outputs": [],
   "source": [
    "opt.plot2D(True,\n",
    "    output_plane = mp.Volume(\n",
    "        center = mp.Vector3(x=0.01), ## if x=0 then its the mid point hence no waveguide\n",
    "        size = mp.Vector3(y=Sy, z=Sz)\n",
    "    ))"
   ]
  },
  {
   "cell_type": "markdown",
   "metadata": {},
   "source": [
    "## For the phase, 2 things must be considered: \n",
    "1. The top input and top output are inphase\n",
    "2. The top input and top output had a phase difference of pi/2 with the bottom waveguide\n",
    "\n",
    "For now, just proceed without much consideration, just assume the monitor positions as the endpoints of the device"
   ]
  },
  {
   "cell_type": "code",
   "execution_count": null,
   "metadata": {},
   "outputs": [],
   "source": [
    "x0 = 0.5*np.ones((Nx,Ny)) #+ np.random.normal(loc=mean, scale=std, size=(Nx,Ny))\n",
    "\n",
    "#just for the same of a boundary value\n",
    "x0=np.where(x0>1,1,x0)\n",
    "x0=np.where(x0<0,0,x0)\n",
    "\n",
    "#x0 = np.random.rand(Nx,Ny)\n",
    "f0, g0 = opt([mapping(x0,0.5,2)])"
   ]
  },
  {
   "cell_type": "code",
   "execution_count": null,
   "metadata": {},
   "outputs": [],
   "source": [
    "plt.figure()\n",
    "print(g0.shape)\n",
    "plt.imshow(np.rot90(g0[:,0].reshape(Nx,Ny)))\n",
    "plt.colorbar()"
   ]
  },
  {
   "cell_type": "code",
   "execution_count": null,
   "metadata": {},
   "outputs": [],
   "source": [
    "from autograd import tensor_jacobian_product\n",
    "backprop_gradient = tensor_jacobian_product(mapping,0)(x0,0.5,2,g0[:,0])\n",
    "plt.imshow(np.rot90(backprop_gradient.reshape(Nx,Ny)))\n",
    "plt.colorbar()"
   ]
  },
  {
   "cell_type": "code",
   "execution_count": null,
   "metadata": {},
   "outputs": [],
   "source": [
    "import nlopt\n",
    "evaluation_history = []\n",
    "cur_iter = [0]\n",
    "def f(v, gradient, cur_beta):\n",
    "    print(\"Current iteration: {}\".format(cur_iter[0]+1))\n",
    "    \n",
    "    f0, dJ_du = opt([mapping(v,eta_i,cur_beta)])\n",
    "    \n",
    "    plt.figure()\n",
    "    ax = plt.gca()\n",
    "    opt.plot2D(False,ax=ax,plot_sources_flag=False,plot_monitors_flag=False,plot_boundaries_flag=False, output_plane = mp.Volume(\n",
    "        center = mp.Vector3(z=0.0),\n",
    "        size = mp.Vector3(x=Sx,y=Sy)\n",
    "    ))\n",
    "    ax.axis('off')\n",
    "    plt.show()\n",
    "    \n",
    "    if gradient.size > 0:\n",
    "        gradient[:] = tensor_jacobian_product(mapping,0)(v,eta_i,cur_beta,np.sum(dJ_du,axis=1))\n",
    "    \n",
    "    evaluation_history.append(np.max(np.real(f0)))\n",
    "    \n",
    "    cur_iter[0] = cur_iter[0] + 1\n",
    "    \n",
    "    return np.real(f0)"
   ]
  },
  {
   "cell_type": "code",
   "execution_count": null,
   "metadata": {},
   "outputs": [],
   "source": [
    "algorithm = nlopt.LD_MMA\n",
    "n = Nx * Ny # number of parameters\n",
    "\n",
    "# Initial guess\n",
    "x = np.ones((n,)) * 0.5 # + np.random.normal(loc=mean, scale=std, size=(n,))\n",
    "#x = np.random.rand(n,) \n",
    "\n",
    "#just for the same of boundary value\n",
    "x=np.where(x>1,1,x)\n",
    "x=np.where(x<0,0,x)\n",
    "\n",
    "# lower and upper bounds\n",
    "lb = 0\n",
    "ub = 1\n",
    "\n",
    "cur_beta = 4\n",
    "beta_scale = 2\n",
    "num_betas = 6\n",
    "update_factor = 30\n",
    "for iters in range(num_betas):\n",
    "    print(\"current beta: \",cur_beta)\n",
    "    \n",
    "    solver = nlopt.opt(algorithm, n)\n",
    "    solver.set_lower_bounds(lb)\n",
    "    solver.set_upper_bounds(ub)\n",
    "    solver.set_max_objective(lambda a,g: f(a,g,cur_beta))\n",
    "    solver.set_maxeval(update_factor)\n",
    "    x[:] = solver.optimize(x)\n",
    "    cur_beta = cur_beta*beta_scale\n",
    "\n",
    "\n",
    "\n",
    "final_beta = 10000\n",
    "update_factor = 1\n",
    "print(\"----------------------------------------------------------------\")\n",
    "print('final binarization')\n",
    "    \n",
    "solver = nlopt.opt(algorithm, n)\n",
    "solver.set_lower_bounds(lb)\n",
    "solver.set_upper_bounds(ub)\n",
    "solver.set_max_objective(lambda a,g: f(a,g,final_beta))\n",
    "solver.set_maxeval(update_factor)\n",
    "x[:] = solver.optimize(x)"
   ]
  },
  {
   "cell_type": "code",
   "execution_count": null,
   "metadata": {},
   "outputs": [],
   "source": [
    "plt.figure()\n",
    "plt.plot(10*np.log10(0.5*np.array(evaluation_history)),'o-')\n",
    "plt.grid(True)\n",
    "plt.xlabel('Iteration')\n",
    "plt.ylabel('Mean Splitting Ratio (dB)')\n",
    "plt.show()"
   ]
  },
  {
   "cell_type": "code",
   "execution_count": null,
   "metadata": {},
   "outputs": [],
   "source": [
    "\n",
    "src = mp.GaussianSource(frequency=fcen,fwidth=fwidth)\n",
    "source = [mp.EigenModeSource(src,\n",
    "                    eig_band = 1,\n",
    "                    direction=mp.NO_DIRECTION,\n",
    "                    eig_kpoint=kpoint,\n",
    "                    size = source_size,\n",
    "                    center=source_center1)]\n",
    "\n",
    "\n",
    "\n",
    "sim = mp.Simulation(cell_size=cell_size,\n",
    "                    boundary_layers=pml_layers,\n",
    "                    geometry=geometry,\n",
    "                    sources=source,\n",
    "                    #symmetries=[mp.Mirror(direction=mp.Y)],\n",
    "                    default_material=SiO2,\n",
    "                    resolution=resolution)\n",
    "\n",
    "\n",
    "mode = 1\n",
    "\n",
    "TE0 = mpa.EigenmodeCoefficient(sim,\n",
    "        mp.Volume(center=mp.Vector3(x=-Sx/2 + pml_size + 2*waveguide_length/3, y=arm_separation/2),\n",
    "            size=mp.Vector3(y=2)),mode)\n",
    "TE_top = mpa.EigenmodeCoefficient(sim,\n",
    "        mp.Volume(center=mp.Vector3(Sx/2 - pml_size - 2*waveguide_length/3,arm_separation/2,0),\n",
    "            size=mp.Vector3(y=arm_separation/2)),mode)\n",
    "TE_bottom = mpa.EigenmodeCoefficient(sim,\n",
    "        mp.Volume(center=mp.Vector3(Sx/2 - pml_size - 2*waveguide_length/3,-arm_separation/2,0),\n",
    "            size=mp.Vector3(y=arm_separation/2)),mode)\n",
    "ob_list = [TE0,TE_top,TE_bottom]\n",
    "\n",
    "def J2(input,top_output,bottom_output):\n",
    "    power = npa.abs(top_output/input) ** 2 + npa.abs(bottom_output/input) ** 2 \n",
    "    return npa.mean(power)\n",
    "\n",
    "opt = mpa.OptimizationProblem(\n",
    "    simulation = sim,\n",
    "    objective_functions = J,\n",
    "    objective_arguments = ob_list,\n",
    "    design_regions = [design_region],\n",
    "    frequencies=frequencies\n",
    ")\n",
    "\n",
    "opt.plot2D(True, output_plane = mp.Volume(\n",
    "        center = mp.Vector3(z=0.0),\n",
    "        size = mp.Vector3(x=Sx,y=Sy)\n",
    "    ))"
   ]
  },
  {
   "cell_type": "code",
   "execution_count": null,
   "metadata": {},
   "outputs": [],
   "source": [
    "f0, dJ_du = opt([mapping(x,eta_i,cur_beta)],need_gradient = False)\n",
    "frequencies = opt.frequencies\n",
    "source_coef, top_coef, bottom_ceof = opt.get_objective_arguments()\n",
    "\n",
    "top_profile = np.abs(top_coef/source_coef) ** 2\n",
    "bottom_profile = np.abs(bottom_ceof/source_coef) ** 2\n"
   ]
  },
  {
   "cell_type": "code",
   "execution_count": null,
   "metadata": {},
   "outputs": [],
   "source": [
    "plt.figure()\n",
    "plt.plot(1/frequencies,top_profile*100,'-o' ,label = 'Top Arm')\n",
    "plt.plot(1/frequencies,bottom_profile*100,'--o',label = 'Bottom Arm')\n",
    "plt.legend()\n",
    "plt.grid(True)\n",
    "plt.xlabel('Wavelength (microns)')\n",
    "plt.ylabel('Power Splitting Ratio (%)')\n",
    "#plt.ylim(46.5,50)\n",
    "plt.show()"
   ]
  },
  {
   "cell_type": "code",
   "execution_count": null,
   "metadata": {},
   "outputs": [],
   "source": [
    "plt.figure()\n",
    "plt.plot(1/frequencies,1-(np.abs(top_coef) ** 2 + np.abs(bottom_ceof) ** 2)/np.abs(source_coef) ** 2,'-o' ,label = 'Insertion loss')\n",
    "plt.legend()\n",
    "plt.grid(True)\n",
    "plt.xlabel('Wavelength (microns)')\n",
    "plt.ylabel('Insertion loss')\n",
    "#plt.ylim(46.5,50)\n",
    "plt.show()"
   ]
  },
  {
   "cell_type": "code",
   "execution_count": null,
   "metadata": {},
   "outputs": [],
   "source": [
    "plt.figure()\n",
    "plt.plot(1/frequencies,(np.abs(top_coef) ** 2 / np.abs(bottom_ceof) ** 2) ** 2,'-o' ,label = 'Output ration')\n",
    "plt.legend()\n",
    "plt.grid(True)\n",
    "plt.xlabel('Wavelength (microns)')\n",
    "plt.ylabel('Output power ration')\n",
    "#plt.ylim(46.5,50)\n",
    "plt.show()"
   ]
  },
  {
   "cell_type": "code",
   "execution_count": null,
   "metadata": {},
   "outputs": [],
   "source": [
    "src = mp.ContinuousSource(frequency=1 / 1.55, fwidth=fwidth)\n",
    "source = [\n",
    "    mp.EigenModeSource(\n",
    "        src,\n",
    "        eig_band=1,\n",
    "        direction=mp.NO_DIRECTION,\n",
    "        eig_kpoint=kpoint,\n",
    "        size=source_size,\n",
    "        center=source_center1,\n",
    "    )\n",
    "]\n",
    "opt.sim.change_sources(source)\n",
    "opt.sim.run(until=500)\n",
    "opt.sim.plot2D(fields=mp.Ez)"
   ]
  },
  {
   "cell_type": "code",
   "execution_count": null,
   "metadata": {},
   "outputs": [],
   "source": [
    "sim = mp.Simulation(cell_size=cell_size,\n",
    "                    boundary_layers=pml_layers,\n",
    "                    geometry=geometry,\n",
    "                    sources=source,\n",
    "                    #symmetries=[mp.Mirror(direction=mp.Y)],\n",
    "                    default_material=SiO2,\n",
    "                    resolution=resolution)"
   ]
  },
  {
   "cell_type": "code",
   "execution_count": null,
   "metadata": {},
   "outputs": [],
   "source": [
    "plt.figure(dpi=100)\n",
    "sim.plot2D()\n",
    "plt.show()"
   ]
  },
  {
   "cell_type": "code",
   "execution_count": null,
   "metadata": {},
   "outputs": [],
   "source": [
    "sim.run(until=200)\n"
   ]
  },
  {
   "cell_type": "code",
   "execution_count": null,
   "metadata": {},
   "outputs": [],
   "source": [
    "plt.figure(dpi=100)\n",
    "sim.plot2D(fields=mp.Ez)\n",
    "plt.show()"
   ]
  },
  {
   "cell_type": "code",
   "execution_count": null,
   "metadata": {},
   "outputs": [],
   "source": [
    "sim.reset_meep()\n",
    "f = plt.figure(dpi=100)\n",
    "Animate = mp.Animate2D(fields=mp.Ez, f=f, realtime=False, normalize=True)\n",
    "plt.close()"
   ]
  },
  {
   "cell_type": "code",
   "execution_count": null,
   "metadata": {},
   "outputs": [],
   "source": [
    "sim.run(mp.at_every(1, Animate), until=100)\n",
    "plt.close()"
   ]
  },
  {
   "cell_type": "code",
   "execution_count": null,
   "metadata": {},
   "outputs": [],
   "source": [
    "filename = \"dc_trial_cw.mp4\"\n",
    "Animate.to_mp4(10, filename)"
   ]
  },
  {
   "cell_type": "code",
   "execution_count": null,
   "metadata": {},
   "outputs": [],
   "source": [
    "Video(filename)\n"
   ]
  },
  {
   "cell_type": "code",
   "execution_count": null,
   "metadata": {},
   "outputs": [],
   "source": [
    "src = mp.ContinuousSource(frequency=1 / 1.55, fwidth=fwidth)\n",
    "sources = [mp.EigenModeSource(src,\n",
    "                    eig_band = 1,\n",
    "                    direction=mp.NO_DIRECTION,\n",
    "                    eig_kpoint=kpoint,\n",
    "                    size = source_size,\n",
    "                    center=source_center1,\n",
    "                    amplitude=1.0),\n",
    "            mp.EigenModeSource(\n",
    "                    src,\n",
    "                    eig_band=1,\n",
    "                    direction=mp.NO_DIRECTION,\n",
    "                    eig_kpoint=kpoint,\n",
    "                    size=source_size,\n",
    "                    center=source_center2,\n",
    "                    amplitude=0.0 - 1.0j\n",
    "    )]"
   ]
  },
  {
   "cell_type": "code",
   "execution_count": null,
   "metadata": {},
   "outputs": [],
   "source": [
    "sim = mp.Simulation(cell_size=cell_size,\n",
    "                    boundary_layers=pml_layers,\n",
    "                    geometry=geometry,\n",
    "                    sources=sources,\n",
    "                    #symmetries=[mp.Mirror(direction=mp.Y)],\n",
    "                    default_material=SiO2,\n",
    "                    resolution=resolution)\n",
    "\n",
    "plt.figure(dpi=100)\n",
    "sim.plot2D()\n",
    "plt.show()"
   ]
  },
  {
   "cell_type": "code",
   "execution_count": null,
   "metadata": {},
   "outputs": [],
   "source": [
    "sim.run(until=200)\n"
   ]
  },
  {
   "cell_type": "code",
   "execution_count": null,
   "metadata": {},
   "outputs": [],
   "source": [
    "plt.figure(dpi=100)\n",
    "sim.plot2D(fields=mp.Ez)\n",
    "plt.show()"
   ]
  },
  {
   "cell_type": "code",
   "execution_count": null,
   "metadata": {},
   "outputs": [],
   "source": [
    "sim.reset_meep()\n",
    "f = plt.figure(dpi=100)\n",
    "Animate = mp.Animate2D(fields=mp.Ez, f=f, realtime=False, normalize=True)\n",
    "plt.close()"
   ]
  },
  {
   "cell_type": "code",
   "execution_count": null,
   "metadata": {},
   "outputs": [],
   "source": [
    "sim.run(mp.at_every(1, Animate), until=100)\n",
    "plt.close()"
   ]
  },
  {
   "cell_type": "code",
   "execution_count": null,
   "metadata": {},
   "outputs": [],
   "source": [
    "filename = \"dc_7x4_2s.mp4\"\n",
    "Animate.to_mp4(10, filename)"
   ]
  },
  {
   "cell_type": "code",
   "execution_count": null,
   "metadata": {},
   "outputs": [],
   "source": [
    "Video(filename)\n"
   ]
  },
  {
   "cell_type": "code",
   "execution_count": null,
   "metadata": {},
   "outputs": [],
   "source": []
  }
 ],
 "metadata": {
  "kernelspec": {
   "display_name": "meep",
   "language": "python",
   "name": "python3"
  },
  "language_info": {
   "codemirror_mode": {
    "name": "ipython",
    "version": 3
   },
   "file_extension": ".py",
   "mimetype": "text/x-python",
   "name": "python",
   "nbconvert_exporter": "python",
   "pygments_lexer": "ipython3",
   "version": "3.11.3"
  },
  "orig_nbformat": 4
 },
 "nbformat": 4,
 "nbformat_minor": 2
}
