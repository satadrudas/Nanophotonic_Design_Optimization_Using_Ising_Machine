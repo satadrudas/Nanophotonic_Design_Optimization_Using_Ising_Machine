{
 "cells": [
  {
   "attachments": {},
   "cell_type": "markdown",
   "metadata": {},
   "source": [
    "# Inverse Design of a Directional Coupler (2D) with minimax and lengthscale constraints"
   ]
  },
  {
   "cell_type": "code",
   "execution_count": 1,
   "metadata": {},
   "outputs": [
    {
     "name": "stdout",
     "output_type": "stream",
     "text": [
      "1.27.0\n"
     ]
    }
   ],
   "source": [
    "import meep as mp\n",
    "print(mp.__version__)\n",
    "import meep.adjoint as mpa\n",
    "import numpy as np\n",
    "from autograd import numpy as npa, tensor_jacobian_product, grad\n",
    "\n",
    "from matplotlib import pyplot as plt\n",
    "from matplotlib.patches import Circle\n",
    "\n",
    "import nlopt\n",
    "from IPython.display import Video\n",
    "from typing import NamedTuple\n"
   ]
  },
  {
   "cell_type": "code",
   "execution_count": 2,
   "metadata": {},
   "outputs": [],
   "source": [
    "seed = np.random.randint(100000)\n",
    "np.random.seed(seed)\n",
    "mp.verbosity(0)\n",
    "Si = mp.Medium(index=3.4)\n",
    "SiO2 = mp.Medium(index=1.44)\n",
    "\n",
    "minimum_length = 0.15 # (μm)\n",
    "eta_e = 0.75\n",
    "filter_radius = mpa.get_conic_radius_from_eta_e(minimum_length,eta_e) # (μm)\n",
    "\n",
    "waveguide_width = 0.5 # (μm)\n",
    "design_region_length = 5 + (4 * filter_radius) # (μm)\n",
    "design_region_width = 1.5 + (4 * filter_radius)  # (μm)\n",
    "\n",
    "\n",
    "arm_separation = 1 #design_region_width - waveguide_width - 4 * filter_radius  # (μm) distance between arms center to center\n",
    "waveguide_length = 2 # (μm)\n",
    "pml_size = 1.0 # (μm)\n",
    "resolution = 20 # (pixels/μm)"
   ]
  },
  {
   "cell_type": "code",
   "execution_count": 3,
   "metadata": {},
   "outputs": [],
   "source": [
    "#filter_radius=minimum_length\n",
    "\n",
    "eta_i = 0.5\n",
    "eta_d = 1-eta_e\n",
    "design_region_resolution = int(2 * resolution) # (pixels/μm)\n",
    "nf=10\n",
    "frequencies = 1/np.linspace(1.5,1.6,nf) # (1/μm)\n",
    "\n",
    "Nx = int(design_region_resolution*design_region_length)+1\n",
    "Ny = int(design_region_resolution*design_region_width)+1\n"
   ]
  },
  {
   "cell_type": "code",
   "execution_count": 4,
   "metadata": {},
   "outputs": [],
   "source": [
    "Sx = 2*pml_size + waveguide_length/2 + design_region_length+1 # cell size in X\n",
    "Sy = 2*pml_size + design_region_width + 2 # cell size in Y\n",
    "cell_size = mp.Vector3(Sx,Sy)\n",
    "\n",
    "pml_layers = [mp.PML(pml_size)]\n",
    "\n",
    "fcen = 1/1.55\n",
    "width = 0.2\n",
    "fwidth = width * fcen#1/1.5 - 1/1.6#width * fcen\n",
    "#source_center  = [-Sx/2 + pml_size + waveguide_length/3,arm_separation/2,0]\n",
    "source_size    = mp.Vector3(0,1,0)\n",
    "kpoint = mp.Vector3(1,0,0)\n",
    "\n",
    "source_center1  = [-Sx/2 + pml_size+0.2 ,arm_separation/2,0]\n",
    "source_center2  = [-Sx/2 + pml_size+0.2 ,-arm_separation/2,0]\n",
    "\n",
    "\n",
    "# src = mp.GaussianSource(frequency=fcen,fwidth=fwidth)\n",
    "# source = [mp.EigenModeSource(src,\n",
    "#                     eig_band = 1,\n",
    "#                     direction=mp.NO_DIRECTION,\n",
    "#                     eig_kpoint=kpoint,\n",
    "#                     size = source_size,\n",
    "#                     center=source_center)]\n",
    "\n",
    "x_g = np.linspace(\n",
    "    -design_region_length / 2,\n",
    "    design_region_length / 2,\n",
    "    Nx,\n",
    ")\n",
    "y_g = np.linspace(\n",
    "    -design_region_width / 2,\n",
    "    design_region_width / 2,\n",
    "    Ny,\n",
    ")\n",
    "X_g, Y_g = np.meshgrid(\n",
    "    x_g,\n",
    "    y_g,\n",
    "    sparse=True,\n",
    "    indexing=\"ij\",\n",
    ")\n",
    "\n",
    "tl_wg_mask = (X_g <= -design_region_length / 2 + filter_radius) & (\n",
    "    Y_g <= (arm_separation + waveguide_width) / 2) & ( Y_g  >=(arm_separation - waveguide_width) / 2\n",
    ")\n",
    "                                                      \n",
    "tr_wg_mask = (X_g >= design_region_length / 2 - filter_radius) & (\n",
    "    Y_g <= (arm_separation + waveguide_width) / 2) & ( Y_g  >=(arm_separation - waveguide_width) / 2\n",
    ")\n",
    "\n",
    "br_wg_mask = (X_g >= design_region_length / 2 - filter_radius) & (\n",
    "    Y_g <= (-arm_separation + waveguide_width) / 2) & ( Y_g  >=(-arm_separation - waveguide_width) / 2\n",
    ")\n",
    "                                                       \n",
    "bl_wg_mask = (X_g <= -design_region_length / 2 + filter_radius) & (\n",
    "    Y_g <= (-arm_separation + waveguide_width) / 2) & ( Y_g  >=(-arm_separation - waveguide_width) / 2\n",
    ")                                                      \n",
    "                                                     \n",
    "\n",
    "Si_mask = tl_wg_mask | tr_wg_mask | br_wg_mask | bl_wg_mask\n",
    "\n",
    "border_mask = (\n",
    "    (X_g <= -design_region_length / 2 + filter_radius)\n",
    "    | (X_g >= design_region_length / 2 - filter_radius)\n",
    "    | (Y_g <= -design_region_width / 2 + filter_radius)\n",
    "    | (Y_g >= design_region_width / 2 - filter_radius)\n",
    ")\n",
    "Air_mask = border_mask.copy()\n",
    "Air_mask[Si_mask] = False\n"
   ]
  },
  {
   "cell_type": "code",
   "execution_count": 5,
   "metadata": {},
   "outputs": [],
   "source": [
    "evaluation_history = []\n",
    "cur_iter = [0]\n",
    "objfunc_history=[]\n",
    "epivar_history=[]\n",
    "\n",
    "def mapping(x: np.ndarray, eta: float, beta: float) -> np.ndarray:\n",
    "    \"\"\"A differentiable mapping function which applies, in order,\n",
    "       the following sequence of transformations to the design weights:\n",
    "       (1) a bit mask for the boundary pixels, (2) convolution with a\n",
    "       conic filter, and (3) projection via a hyperbolic tangent (if\n",
    "       necessary).\n",
    "\n",
    "    Args:\n",
    "      x: design weights as a 1d array of size Nx*Ny.\n",
    "      eta: erosion/dilation parameter for the projection.\n",
    "      beta: bias parameter for the projection. A value of 0 is no projection.\n",
    "\n",
    "    Returns:\n",
    "      The mapped design weights as a 1d array.\n",
    "    \"\"\"\n",
    "    x = npa.where(Si_mask.flatten(), 1, npa.where(Air_mask.flatten(), 0, x.flatten()))\n",
    "\n",
    "    x = (npa.fliplr(x.reshape(Nx,Ny)) + x.reshape(Nx,Ny))/2 # up-down symmetry\n",
    "    x = (npa.flipud(x.reshape(Nx,Ny)) + x.reshape(Nx,Ny))/2 # left-right symmetry\n",
    "\n",
    "    filtered_field = mpa.conic_filter(x, filter_radius,design_region_length,design_region_width,design_region_resolution)\n",
    "\n",
    "    if beta == 0:\n",
    "        return filtered_field.flatten()\n",
    "\n",
    "    else:\n",
    "        projected_field = mpa.tanh_projection(filtered_field,beta,eta)\n",
    "\n",
    "        return projected_field.flatten()\n",
    "    \n",
    "\n",
    "\n",
    "\n",
    "\n",
    "def f(x, grad):\n",
    "    t = x[0]  # \"dummy\" parameter\n",
    "    v = x[1:]  # design parameters\n",
    "    if grad.size > 0:\n",
    "        grad[0] = 1\n",
    "        grad[1:] = 0\n",
    "    return t\n",
    "\n",
    "\n",
    "\n",
    "def c(\n",
    "    result: np.ndarray, \n",
    "    x: np.ndarray, \n",
    "    gradient: np.ndarray, \n",
    "    eta: float,\n",
    "    beta: float, use_epsavg: bool):\n",
    "    \n",
    "\n",
    "    \"\"\"Constraint function for the epigraph formulation.\n",
    "\n",
    "    Args:\n",
    "      result: the result of the function evaluation modified in place.\n",
    "      x: 1d array of size 1+Nx*Ny containing epigraph variable (first\n",
    "         element) and design weights (remaining Nx*Ny elements).\n",
    "      gradient: the Jacobian matrix with dimensions (1+Nx*Ny,\n",
    "                2*num. wavelengths) modified in place.\n",
    "      eta: erosion/dilation parameter for projection.\n",
    "      beta: bias parameter for projection.\n",
    "      use_epsavg: whether to use subpixel smoothing.\n",
    "    \"\"\"\n",
    "\n",
    "    print(\n",
    "        \"Current iteration: {}; current eta: {}, current beta: {}\".format(\n",
    "            cur_iter[0], eta, beta\n",
    "        )\n",
    "    )\n",
    "\n",
    "\n",
    "\n",
    "    t = x[0]  # epigraph variable\n",
    "    v = x[1:]  # design weights\n",
    "\n",
    "    f0, dJ_du = opt([mapping(v, eta, 0 if use_epsavg else beta)])\n",
    "\n",
    "    f0_reflection_top = f0[0]\n",
    "    f0_reflection_bottom = f0[1]\n",
    "    f0_transmission = f0[2]\n",
    "\n",
    "    f0_merged = np.concatenate((f0_reflection_top,f0_reflection_bottom , f0_transmission))\n",
    "    f0_merged_str = '[' + ','.join(str(ff) for ff in f0_merged) + ']'\n",
    "\n",
    "    dJ_du_reflection_top = dJ_du[0]\n",
    "    dJ_du_reflection_bottom = dJ_du[1]\n",
    "    dJ_du_transmission = dJ_du[2]\n",
    "     \n",
    "    my_grad = np.zeros((Nx * Ny, 3 * nf))\n",
    "    my_grad[:, :nf] = dJ_du_reflection_top\n",
    "    my_grad[:, nf:2*nf] = dJ_du_reflection_bottom\n",
    "    my_grad[:, 2*nf:] = dJ_du_transmission\n",
    "\n",
    "    # backpropagate the gradients through mapping function\n",
    "    for k in range(3 * nf):\n",
    "        my_grad[:, k] = tensor_jacobian_product(mapping, 0)(\n",
    "            v,\n",
    "            eta,\n",
    "            beta,\n",
    "            my_grad[:, k],\n",
    "        )\n",
    "\n",
    "    if gradient.size > 0:\n",
    "        gradient[:, 0] = -1  # gradient w.r.t. epigraph variable (\"t\")\n",
    "        gradient[:, 1:] = my_grad.T  # gradient w.r.t. each frequency objective\n",
    "\n",
    "    result[:] = np.real(f0_merged) - t\n",
    "\n",
    "    objfunc_history.append(np.real(f0_merged))\n",
    "    epivar_history.append(t)\n",
    "\n",
    "    # visualize\n",
    "    plt.figure()\n",
    "    ax = plt.gca()\n",
    "    opt.plot2D(\n",
    "        False,\n",
    "        ax=ax,\n",
    "        plot_sources_flag=False,\n",
    "        plot_monitors_flag=False,\n",
    "        plot_boundaries_flag=False,\n",
    "    )\n",
    "    circ = Circle((2, 2), minimum_length / 2)\n",
    "    ax.add_patch(circ)\n",
    "    ax.axis(\"off\")\n",
    "    plt.show()\n",
    "\n",
    "    cur_iter[0] = cur_iter[0] + 1\n",
    "\n",
    "\n",
    "\n",
    "def glc(result: np.ndarray, x: np.ndarray, gradient: np.ndarray,\n",
    "        beta: float) -> float:\n",
    "    \"\"\"Constraint function for the minimum linewidth.\n",
    "\n",
    "    Args:\n",
    "      result: the result of the function evaluation modified in place.\n",
    "      x: 1d array of size 1+Nx*Ny containing epigraph variable (first\n",
    "         element) and design weights (remaining elements).\n",
    "      gradient: the Jacobian matrix with dimensions (1+Nx*Ny,\n",
    "                num. wavelengths) modified in place.\n",
    "      beta: bias parameter for projection.\n",
    "\n",
    "    Returns:\n",
    "      The value of the constraint function (a scalar).\n",
    "    \"\"\"\n",
    "    t = x[0]  # dummy parameter\n",
    "    v = x[1:]  # design parameters\n",
    "    a1 = 1e-3  # hyper parameter (primary)\n",
    "    b1 = 0  # hyper parameter (secondary)\n",
    "    gradient[:, 0] = -a1\n",
    "\n",
    "    filter_f = lambda a: mpa.conic_filter(\n",
    "        a.reshape(Nx, Ny),\n",
    "        filter_radius,\n",
    "        design_region_length,\n",
    "        design_region_width,\n",
    "        design_region_resolution,\n",
    "    )\n",
    "    threshold_f = lambda a: mpa.tanh_projection(a, beta, eta_i)\n",
    "\n",
    "    # hyper parameter (constant factor and exponent)\n",
    "    c0 = 1e7 * (filter_radius * 1 / resolution) ** 4\n",
    "\n",
    "    M1 = lambda a: mpa.constraint_solid(a, c0, eta_e, filter_f, threshold_f, 1)\n",
    "    M2 = lambda a: mpa.constraint_void(a, c0, eta_d, filter_f, threshold_f, 1)\n",
    "\n",
    "    g1 = grad(M1)(v)\n",
    "    g2 = grad(M2)(v)\n",
    "\n",
    "    result[0] = M1(v) - a1 * t - b1\n",
    "    result[1] = M2(v) - a1 * t - b1\n",
    "\n",
    "    gradient[0, 1:] = g1.flatten()\n",
    "    gradient[1, 1:] = g2.flatten()\n",
    "\n",
    "    t1 = (M1(v) - b1) / a1\n",
    "    t2 = (M2(v) - b1) / a1\n",
    "\n",
    "    print(f\"glc:, {result[0]}, {result[1]}, {t1}, {t2}\")\n",
    "\n",
    "    return max(t1, t2)\n",
    "\n",
    "\n",
    "\n",
    "\n",
    "\n",
    "def straight_waveguide() -> (np.ndarray, NamedTuple):\n",
    "    \"\"\"Computes the DFT fields from the mode source in a straight waveguide\n",
    "       for use as normalization of the reflectance measurement during the\n",
    "       optimization.\n",
    "\n",
    "    Returns:\n",
    "      A 2-tuple consisting of a 1d array of DFT fields and DFT fields object\n",
    "      returned by `meep.get_flux_data`.\n",
    "    \"\"\"\n",
    "\n",
    " \n",
    "\n",
    "    Sx = 2*pml_size + 3 +1 # cell size in X\n",
    "    Sy = 2*pml_size + 4*waveguide_width  # cell size in Y\n",
    "\n",
    "    refl_pt =mp.Vector3(Sx/2 - pml_size-0.1)\n",
    "    stop_cond = mp.stop_when_fields_decayed(50, mp.Ez, refl_pt, 1e-8)\n",
    "\n",
    "    cell_size = mp.Vector3(Sx,Sy)\n",
    "\n",
    "    sources = [\n",
    "        mp.EigenModeSource(\n",
    "            src=mp.GaussianSource(fcen, fwidth=fwidth),\n",
    "            size=source_size,\n",
    "            center=mp.Vector3(x= -Sx/2 + pml_size + 0.1),\n",
    "            eig_band=1,\n",
    "        )\n",
    "    ]\n",
    "\n",
    "    geometry = [\n",
    "        mp.Block(\n",
    "            size=mp.Vector3(mp.inf, waveguide_width),\n",
    "            center=mp.Vector3(),\n",
    "            material=Si,\n",
    "        )\n",
    "    ]\n",
    "\n",
    "    sim = mp.Simulation(\n",
    "        resolution=resolution,\n",
    "        default_material=mp.air,\n",
    "        cell_size=cell_size,\n",
    "        sources=sources,\n",
    "        geometry=geometry,\n",
    "        boundary_layers=pml_layers,\n",
    "        k_point=mp.Vector3(),\n",
    "    )\n",
    "\n",
    "    refl_mon = sim.add_mode_monitor(\n",
    "        frequencies,\n",
    "        mp.ModeRegion(center= refl_pt, size=source_size),\n",
    "        yee_grid=True,\n",
    "    )\n",
    "\n",
    "    sim.run(until_after_sources=stop_cond)\n",
    "\n",
    "    res = sim.get_eigenmode_coefficients(\n",
    "        refl_mon,\n",
    "        [1],\n",
    "    )\n",
    "\n",
    "    coeffs = res.alpha\n",
    "    input_flux = np.abs(coeffs[0, :, 0]) ** 2\n",
    "    input_flux_data = sim.get_flux_data(refl_mon)\n",
    "\n",
    "    return input_flux, input_flux_data\n",
    "\n",
    "\n",
    "def dc_optimization(\n",
    "        input_flux: np.ndarray,\n",
    "        input_flux_data: NamedTuple,\n",
    "        use_damping: bool = False,\n",
    "        use_epsavg: bool = False,\n",
    "        beta: float = 0) -> mpa.OptimizationProblem:\n",
    "    \"\"\"Sets up the adjoint optimization of the waveguide mode converter.\n",
    "\n",
    "    Args:\n",
    "      use_damping: whether to use the damping feature of `MaterialGrid`.\n",
    "      use_epsavg: whether to use subpixel smoothing in `MaterialGrid`.\n",
    "\n",
    "    Returns:\n",
    "      A `meep.adjoint.OptimizationProblem` class object.\n",
    "    \"\"\"\n",
    "\n",
    "    design_variables = mp.MaterialGrid(\n",
    "        mp.Vector3(Nx,Ny),\n",
    "        mp.air,\n",
    "        Si,\n",
    "        weights=np.ones((Nx, Ny)),\n",
    "        beta=beta if use_epsavg else 0,\n",
    "        do_averaging = True if use_epsavg else False,\n",
    "        damping=0.02 * 2 * np.pi * fcen if use_damping else 0,\n",
    "    )\n",
    "\n",
    "    design_region = mpa.DesignRegion(\n",
    "        design_variables,\n",
    "        volume=mp.Volume(\n",
    "            center=mp.Vector3(), \n",
    "            size=mp.Vector3(design_region_length, design_region_width),\n",
    "            ),\n",
    "        )\n",
    "\n",
    "\n",
    "\n",
    "    geometry = [\n",
    "        mp.Block(center=mp.Vector3(x=-(design_region_length+waveguide_length)/2, y=arm_separation/2), material=Si, size=mp.Vector3(waveguide_length, waveguide_width, 0)), # top left waveguide\n",
    "        mp.Block(center=mp.Vector3(x=-(design_region_length+waveguide_length)/2, y=-arm_separation/2), material=Si, size=mp.Vector3(waveguide_length, waveguide_width, 0)), # bottom left waveguide\n",
    "        mp.Block(center=mp.Vector3(x=(design_region_length+waveguide_length)/2, y=arm_separation/2), material=Si, size=mp.Vector3(waveguide_length, waveguide_width, 0)), # top right waveguide\n",
    "        mp.Block(center=mp.Vector3(x=(design_region_length+waveguide_length)/2, y=-arm_separation/2), material=Si, size=mp.Vector3(waveguide_length, waveguide_width, 0)), # bottom right waveguide\n",
    "        mp.Block(center=design_region.center, size=design_region.size, material=design_variables)\n",
    "    ]\n",
    "\n",
    "\n",
    "\n",
    "    src = mp.GaussianSource(frequency=fcen,fwidth=fwidth)\n",
    "    sources = [mp.EigenModeSource(src,\n",
    "                        eig_band = 1,\n",
    "                        direction=mp.NO_DIRECTION,\n",
    "                        eig_kpoint=kpoint,\n",
    "                        size = source_size,\n",
    "                        center=source_center1,\n",
    "                        amplitude=1.0),\n",
    "                mp.EigenModeSource(\n",
    "                        src,\n",
    "                        eig_band=1,\n",
    "                        direction=mp.NO_DIRECTION,\n",
    "                        eig_kpoint=kpoint,\n",
    "                        size=source_size,\n",
    "                        center=source_center2,\n",
    "                        amplitude=0.0 - 1.0j\n",
    "        )]\n",
    "\n",
    "\n",
    "\n",
    "    sim = mp.Simulation(cell_size=cell_size,\n",
    "                        boundary_layers=pml_layers,\n",
    "                        geometry=geometry,\n",
    "                        sources=sources,\n",
    "                        #symmetries=[mp.Mirror(direction=mp.Y)],\n",
    "                        default_material=mp.air,\n",
    "                        resolution=resolution)\n",
    "\n",
    "\n",
    "\n",
    "    mode = 1\n",
    "\n",
    "    TE0 = mpa.EigenmodeCoefficient(sim,\n",
    "            mp.Volume(center=mp.Vector3(x=Sx/2 - pml_size - 0.4, y=arm_separation/2),\n",
    "                size=source_size),mode,)\n",
    "    TE_top = mpa.EigenmodeCoefficient(sim,\n",
    "            mp.Volume(center=mp.Vector3(-Sx/2 + pml_size + 0.4,arm_separation/2,0),\n",
    "                size=source_size),mode, forward=False, subtracted_dft_fields=input_flux_data,)\n",
    "    TE_bottom = mpa.EigenmodeCoefficient(sim,\n",
    "            mp.Volume(center=mp.Vector3(-Sx/2 + pml_size + 0.4,-arm_separation/2,0),\n",
    "                size=source_size),mode, forward=False,  subtracted_dft_fields=input_flux_data,)\n",
    "    \n",
    "    ob_list = [TE0,TE_top,TE_bottom]\n",
    "\n",
    "\n",
    "    def J_ref_top(output,top_monitor,bottom_monitor):\n",
    "        power = npa.abs(top_monitor) ** 2 / input_flux\n",
    "        return power\n",
    "\n",
    "    def J_ref_bot(output,top_monitor,bottom_monitor):\n",
    "        power = npa.abs(bottom_monitor) ** 2 / input_flux\n",
    "        return power \n",
    "\n",
    "    def J_trans(output,top_monitor,bottom_monitor):\n",
    "        power = npa.abs(output) ** 2 / (2 * input_flux) \n",
    "        return 1-power\n",
    "\n",
    "    opt = mpa.OptimizationProblem(\n",
    "        simulation = sim,\n",
    "        objective_functions = [J_trans, J_ref_top, J_ref_bot], # i dont think the order matters here its just the list of objective functions\n",
    "        objective_arguments = ob_list,\n",
    "        design_regions = [design_region],\n",
    "        frequencies=frequencies\n",
    "    )\n",
    "    return opt\n",
    "\n",
    "\n"
   ]
  },
  {
   "cell_type": "code",
   "execution_count": 6,
   "metadata": {},
   "outputs": [
    {
     "data": {
      "text/plain": [
       "(225, 85)"
      ]
     },
     "execution_count": 6,
     "metadata": {},
     "output_type": "execute_result"
    }
   ],
   "source": [
    "Nx,Ny"
   ]
  },
  {
   "cell_type": "code",
   "execution_count": 7,
   "metadata": {},
   "outputs": [
    {
     "data": {
      "text/plain": [
       "<matplotlib.image.AxesImage at 0x7f2fbe52a7d0>"
      ]
     },
     "execution_count": 7,
     "metadata": {},
     "output_type": "execute_result"
    },
    {
     "data": {
      "image/png": "[encoded data removed]",
      "text/plain": [
       "<Figure size 400x1058.82 with 1 Axes>"
      ]
     },
     "metadata": {},
     "output_type": "display_data"
    }
   ],
   "source": [
    "plt.matshow(mapping(np.random.rand(Nx,Ny),0.5,64).reshape(Nx,Ny))"
   ]
  },
  {
   "cell_type": "code",
   "execution_count": 8,
   "metadata": {},
   "outputs": [
    {
     "data": {
      "text/plain": [
       "<matplotlib.image.AxesImage at 0x7f2fbe223ad0>"
      ]
     },
     "execution_count": 8,
     "metadata": {},
     "output_type": "execute_result"
    },
    {
     "data": {
      "image/png": "[encoded data removed]",
      "text/plain": [
       "<Figure size 400x1058.82 with 1 Axes>"
      ]
     },
     "metadata": {},
     "output_type": "display_data"
    }
   ],
   "source": [
    "plt.matshow(mapping(np.random.rand(Nx,Ny),0.5,128).reshape(Nx,Ny))"
   ]
  },
  {
   "cell_type": "code",
   "execution_count": 9,
   "metadata": {},
   "outputs": [],
   "source": [
    "input_flux, input_flux_data = straight_waveguide()"
   ]
  },
  {
   "cell_type": "code",
   "execution_count": 10,
   "metadata": {},
   "outputs": [
    {
     "data": {
      "image/png": "[encoded data removed]",
      "text/plain": [
       "<Figure size 640x480 with 1 Axes>"
      ]
     },
     "metadata": {},
     "output_type": "display_data"
    }
   ],
   "source": [
    "op=dc_optimization(input_flux,input_flux_data, beta=64)\n",
    "op.plot2D(True)"
   ]
  },
  {
   "cell_type": "code",
   "execution_count": null,
   "metadata": {},
   "outputs": [],
   "source": []
  },
  {
   "attachments": {},
   "cell_type": "markdown",
   "metadata": {},
   "source": [
    "## Gradient visualization"
   ]
  },
  {
   "cell_type": "code",
   "execution_count": null,
   "metadata": {},
   "outputs": [],
   "source": [
    "x0 = 0.5*np.ones((Nx,Ny)) #+ np.random.normal(loc=mean, scale=std, size=(Nx,Ny))\n",
    "\n",
    "#just for the same of a boundary value\n",
    "x0=np.where(x0>1,1,x0)\n",
    "x0=np.where(x0<0,0,x0)\n",
    "\n",
    "#x0 = np.random.rand(Nx,Ny)\n",
    "f0, g0 = op([mapping(x0,0.5,2)])"
   ]
  },
  {
   "cell_type": "code",
   "execution_count": null,
   "metadata": {},
   "outputs": [],
   "source": [
    "np.shape(g0.T)"
   ]
  },
  {
   "cell_type": "code",
   "execution_count": null,
   "metadata": {},
   "outputs": [],
   "source": [
    "plt.figure()\n",
    "print(g0.shape)\n",
    "plt.imshow(np.rot90(g0[:,0].reshape(Nx,Ny)))\n",
    "plt.colorbar()"
   ]
  },
  {
   "cell_type": "code",
   "execution_count": null,
   "metadata": {},
   "outputs": [],
   "source": [
    "backprop_gradient = tensor_jacobian_product(mapping,0)(x0,0.5,2,g0[:,0])\n",
    "plt.imshow(np.rot90(backprop_gradient.reshape(Nx,Ny)))\n",
    "plt.colorbar()"
   ]
  },
  {
   "attachments": {},
   "cell_type": "markdown",
   "metadata": {},
   "source": [
    "## For the phase, 2 things must be considered: \n",
    "1. The top input and top output are inphase\n",
    "2. The top input and top output had a phase difference of pi/2 with the bottom waveguide\n",
    "\n",
    "That's why we use \"Phase injected topology optimization\" ( Read more here: https://pubs.acs.org/doi/abs/10.1021/acsphotonics.2c01016)"
   ]
  },
  {
   "cell_type": "code",
   "execution_count": 11,
   "metadata": {},
   "outputs": [
    {
     "name": "stdout",
     "output_type": "stream",
     "text": [
      "Starting forward run...\n",
      "Current iteration: 0; current eta: 0.5, current beta: 8\n",
      "Starting forward run...\n",
      "Starting adjoint run...\n"
     ]
    },
    {
     "name": "stderr",
     "output_type": "stream",
     "text": [
      "/home/satadrudas/anaconda3/envs/meep/lib/python3.11/site-packages/autograd/tracer.py:14: UserWarning: Output seems independent of input.\n",
      "  warnings.warn(\"Output seems independent of input.\")\n"
     ]
    }
   ],
   "source": [
    "input_flux, input_flux_data = straight_waveguide()\n",
    "\n",
    "algorithm = nlopt.LD_MMA\n",
    "\n",
    "n = Nx * Ny\n",
    "\n",
    "mean = 0.0\n",
    "std=0.2\n",
    "\n",
    "# initial design parameters\n",
    "x = np.ones((n,)) * 0.5 #+ np.random.normal(loc=mean, scale=std, size=(n,))\n",
    "\n",
    "\n",
    "x[Si_mask.flatten()] = 1.0  # set the edges of waveguides to silicon\n",
    "x[Air_mask.flatten()] = 0.0  # set the other edges to SiO2\n",
    "\n",
    "# lower and upper bounds for design weights\n",
    "lb = np.zeros((n,))\n",
    "lb[Si_mask.flatten()] = 1.0\n",
    "ub = np.ones((n,))\n",
    "ub[Air_mask.flatten()] = 0.0\n",
    "\n",
    "# insert epigraph variable initial value (arbitrary) and bounds into the\n",
    "# design array. the actual value is determined by the objective and\n",
    "# constraint functions below.\n",
    "x = np.insert(x, 0, 1.2)\n",
    "lb = np.insert(lb, 0, -np.inf)\n",
    "ub = np.insert(ub, 0, +np.inf)\n",
    "\n",
    "objfunc_history = []\n",
    "epivar_history = []\n",
    "cur_iter = [0]\n",
    "\n",
    "beta_thresh = 32 # threshold beta above which to use subpixel smoothing\n",
    "betas = [8, 16, 32, 64, 128, 256, 512]\n",
    "max_evals = [25, 25, 25, 25, 25, 25, 25]\n",
    "tol_epi = np.array([1e-4] * 3 * len(frequencies))  # R_top, R_bot, 1-T\n",
    "tol_lw = np.array([1e-8] *2 )  # line width, line spacing\n",
    "\n",
    "input_flux, input_flux_data = straight_waveguide()\n",
    "\n",
    "for beta, max_eval in zip(betas, max_evals):\n",
    "    solver = nlopt.opt(algorithm, n + 1)\n",
    "    solver.set_lower_bounds(lb)\n",
    "    solver.set_upper_bounds(ub)\n",
    "    solver.set_min_objective(f)\n",
    "    solver.set_maxeval(max_eval)\n",
    "    solver.set_param(\"dual_ftol_rel\", 1e-7)\n",
    "    solver.add_inequality_mconstraint(\n",
    "        lambda rr, xx, gg: c(\n",
    "            rr,\n",
    "            xx,\n",
    "            gg,\n",
    "            eta_i,\n",
    "            beta,\n",
    "            False if beta < beta_thresh else True,\n",
    "            \n",
    "        ),\n",
    "        tol_epi,\n",
    "    )\n",
    "\n",
    "\n",
    "    opt = dc_optimization(\n",
    "        input_flux, \n",
    "        input_flux_data,\n",
    "        True,  # use_damping\n",
    "        False if beta < beta_thresh else True,  # use_epsavg\n",
    "        beta,\n",
    "    )\n",
    "    # apply the minimum linewidth constraint\n",
    "    # only in the final epoch to an initial\n",
    "    # binary design from the previous epoch.\n",
    "    # if beta == betas[-1]:\n",
    "    #     res = np.zeros(2)\n",
    "    #     grd = np.zeros((2, n + 1))\n",
    "    #     t = glc(res, x, grd, beta)\n",
    "    #     solver.add_inequality_mconstraint(\n",
    "    #         lambda rr, xx, gg: glc(\n",
    "    #             rr,\n",
    "    #             xx,\n",
    "    #             gg,\n",
    "    #             beta,\n",
    "    #         ),\n",
    "    #         tol_lw,\n",
    "    #     )\n",
    "\n",
    "    # execute a single forward run before the start of each\n",
    "    # epoch and manually set the initial epigraph variable to\n",
    "    # slightly larger than the largest value of the objective\n",
    "    # function over the six wavelengths and the lengthscale\n",
    "    # constraint (final epoch only).\n",
    "    t0,_ = opt(\n",
    "        [\n",
    "            mapping(\n",
    "                x[1:],\n",
    "                eta_i,\n",
    "                beta if beta < beta_thresh else 0,\n",
    "            ),\n",
    "        ],\n",
    "        need_gradient=False,\n",
    "    )\n",
    "    #t0 = np.concatenate((t0[0], t0[1], t0[2]))\n",
    "    x[0] = np.amax(t0)\n",
    "    x[0] = 1.05 * (max(x[0], t) if beta == betas[-1] else x[0])\n",
    "\n",
    "    x[:] = solver.optimize(x)\n"
   ]
  },
  {
   "cell_type": "code",
   "execution_count": null,
   "metadata": {},
   "outputs": [],
   "source": [
    "#################################################\n",
    "#SAVE THE design_region (x)\n",
    "#################################################\n",
    "\n",
    "#np.save(\"design_dc_minimax_lc2.npy\",x[1:])"
   ]
  },
  {
   "cell_type": "code",
   "execution_count": null,
   "metadata": {},
   "outputs": [],
   "source": [
    "plt.matshow(x[1:].reshape(Nx,Ny))"
   ]
  },
  {
   "cell_type": "code",
   "execution_count": null,
   "metadata": {},
   "outputs": [],
   "source": [
    "epivar_history=np.array(epivar_history)\n",
    "np.save(\"epivar_history_lc2.npy\",epivar_history)\n",
    "plt.figure()\n",
    "plt.plot(epivar_history,'o-')\n",
    "plt.grid(True)\n",
    "plt.xlabel('Iteration')\n",
    "plt.ylabel('Epivar')\n",
    "plt.show()\n"
   ]
  },
  {
   "cell_type": "code",
   "execution_count": null,
   "metadata": {},
   "outputs": [],
   "source": [
    "epivar_history=np.array(epivar_history)\n",
    "np.save(\"epivar_history_lc2.npy\",epivar_history)\n",
    "plt.figure()\n",
    "plt.plot(epivar_history[:100],'o-')\n",
    "plt.grid(True)\n",
    "plt.xlabel('Iteration')\n",
    "plt.ylabel('Epivar')\n",
    "plt.show()\n"
   ]
  },
  {
   "cell_type": "code",
   "execution_count": null,
   "metadata": {},
   "outputs": [],
   "source": [
    "objfunc_history=np.array(objfunc_history)\n",
    "np.save(\"obj_history2.npy\",objfunc_history)\n",
    "\n",
    "trans_objfunc_history=objfunc_history[:,:nf]\n",
    "ref_top_objfunc_history=objfunc_history[:,nf:2*nf]\n",
    "ref_bot_objfunc_history=objfunc_history[:,2*nf:3*nf]\n"
   ]
  },
  {
   "cell_type": "code",
   "execution_count": null,
   "metadata": {},
   "outputs": [],
   "source": [
    "plt.figure()\n",
    "plt.plot(ref_top_objfunc_history,'o-')\n",
    "plt.grid(True)\n",
    "plt.xlabel('Iteration')\n",
    "plt.ylabel('Top input arm reflected power (Normalized)')\n",
    "plt.show()"
   ]
  },
  {
   "cell_type": "code",
   "execution_count": null,
   "metadata": {},
   "outputs": [],
   "source": [
    "plt.figure()\n",
    "plt.plot(ref_bot_objfunc_history,'o-')\n",
    "plt.grid(True)\n",
    "plt.xlabel('Iteration')\n",
    "plt.ylabel('Bottom input arm reflected power (Normalized)')\n",
    "plt.show()"
   ]
  },
  {
   "cell_type": "code",
   "execution_count": null,
   "metadata": {},
   "outputs": [],
   "source": [
    "plt.figure()\n",
    "plt.plot(1-trans_objfunc_history,'o-')\n",
    "plt.grid(True)\n",
    "plt.xlabel('Iteration')\n",
    "plt.ylabel('Transmitted Power (Normalized)')\n",
    "plt.show()"
   ]
  },
  {
   "cell_type": "code",
   "execution_count": null,
   "metadata": {},
   "outputs": [],
   "source": [
    "lb = 1 - np.min(ref_top_objfunc_history, axis=1)\n",
    "ub = 1 - np.max(ref_top_objfunc_history, axis=1)\n",
    "mean = 1 - np.mean(ref_top_objfunc_history, axis=1)\n",
    "\n",
    "num_iters = lb.size\n",
    "\n",
    "plt.figure()\n",
    "plt.fill_between(\n",
    "    np.arange(1, num_iters + 1), 10 * np.log10(lb), 10 * np.log10(ub), alpha=0.3\n",
    ")\n",
    "plt.plot(10 * np.log10(mean), \"o-\")\n",
    "plt.grid(True)\n",
    "plt.xlabel(\"Iteration\")\n",
    "plt.ylabel(\"Average Insertion Loss (dB)\")\n",
    "plt.show()"
   ]
  },
  {
   "cell_type": "code",
   "execution_count": null,
   "metadata": {},
   "outputs": [],
   "source": [
    "lb = 1 - np.min(ref_bot_objfunc_history, axis=1)\n",
    "ub = 1 - np.max(ref_bot_objfunc_history, axis=1)\n",
    "mean = 1 - np.mean(ref_bot_objfunc_history, axis=1)\n",
    "\n",
    "num_iters = lb.size\n",
    "\n",
    "plt.figure()\n",
    "plt.fill_between(\n",
    "    np.arange(1, num_iters + 1), 10 * np.log10(lb), 10 * np.log10(ub), alpha=0.3\n",
    ")\n",
    "plt.plot(10 * np.log10(mean), \"o-\")\n",
    "plt.grid(True)\n",
    "plt.xlabel(\"Iteration\")\n",
    "plt.ylabel(\"Average Insertion Loss (dB)\")\n",
    "plt.show()"
   ]
  },
  {
   "cell_type": "code",
   "execution_count": null,
   "metadata": {},
   "outputs": [],
   "source": [
    "lb = 1 - np.min(trans_objfunc_history, axis=1)\n",
    "ub = 1 - np.max(trans_objfunc_history, axis=1)\n",
    "mean = 1 - np.mean(trans_objfunc_history, axis=1)\n",
    "\n",
    "num_iters = lb.size\n",
    "\n",
    "plt.figure()\n",
    "plt.fill_between(\n",
    "    np.arange(1, num_iters + 1), 10 * np.log10(lb), 10 * np.log10(ub), alpha=0.3\n",
    ")\n",
    "plt.plot(10 * np.log10(mean), \"o-\")\n",
    "plt.grid(True)\n",
    "plt.xlabel(\"Iteration\")\n",
    "plt.ylabel(\"Average Insertion Loss (dB)\")\n",
    "plt.show()"
   ]
  },
  {
   "cell_type": "code",
   "execution_count": null,
   "metadata": {},
   "outputs": [],
   "source": [
    "\n",
    "plt.figure()\n",
    "plt.plot(10*np.log10(ref_top_objfunc_history),'o-')\n",
    "plt.grid(True)\n",
    "plt.xlabel('Iteration')\n",
    "plt.ylabel('Insertion Loss (dB)')\n",
    "plt.show()"
   ]
  },
  {
   "cell_type": "code",
   "execution_count": null,
   "metadata": {},
   "outputs": [],
   "source": [
    "plt.figure()\n",
    "plt.plot(10*np.log10(ref_bot_objfunc_history),'o-')\n",
    "plt.grid(True)\n",
    "plt.xlabel('Iteration')\n",
    "plt.ylabel('Insertion Loss (dB)')\n",
    "plt.show()"
   ]
  },
  {
   "cell_type": "code",
   "execution_count": null,
   "metadata": {},
   "outputs": [],
   "source": [
    "plt.figure()\n",
    "plt.plot(10*np.log10(1-trans_objfunc_history),'o-')\n",
    "plt.grid(True)\n",
    "plt.xlabel('Iteration')\n",
    "plt.ylabel('Insertion Loss (dB)')\n",
    "plt.show()"
   ]
  },
  {
   "cell_type": "code",
   "execution_count": null,
   "metadata": {},
   "outputs": [],
   "source": []
  },
  {
   "cell_type": "code",
   "execution_count": null,
   "metadata": {},
   "outputs": [],
   "source": [
    "def dc_final_design_sim(\n",
    "        final_weights: complex = x[1:].reshape(Nx,Ny),\n",
    "        beta: float = 0) -> mpa.OptimizationProblem:\n",
    "    \"\"\"Sets up the adjoint optimization of the waveguide mode converter.\n",
    "\n",
    "    Args:\n",
    "      use_damping: whether to use the damping feature of `MaterialGrid`.\n",
    "      use_epsavg: whether to use subpixel smoothing in `MaterialGrid`.\n",
    "\n",
    "    Returns:\n",
    "      A `meep.adjoint.OptimizationProblem` class object.\n",
    "    \"\"\"\n",
    "\n",
    "    design_variables = mp.MaterialGrid(\n",
    "        mp.Vector3(Nx,Ny),\n",
    "        mp.air,\n",
    "        Si,\n",
    "        weights=final_weights,\n",
    "        beta=beta,\n",
    "    )\n",
    "\n",
    "    design_region = mpa.DesignRegion(\n",
    "        design_variables,\n",
    "        volume=mp.Volume(\n",
    "            center=mp.Vector3(), \n",
    "            size=mp.Vector3(design_region_length, design_region_width),\n",
    "            ),\n",
    "        )\n",
    "\n",
    "\n",
    "\n",
    "    geometry = [\n",
    "        mp.Block(center=mp.Vector3(x=-(design_region_length+waveguide_length)/2, y=arm_separation/2), material=Si, size=mp.Vector3(waveguide_length, waveguide_width, 0)), # top left waveguide\n",
    "        mp.Block(center=mp.Vector3(x=-(design_region_length+waveguide_length)/2, y=-arm_separation/2), material=Si, size=mp.Vector3(waveguide_length, waveguide_width, 0)), # bottom left waveguide\n",
    "        mp.Block(center=mp.Vector3(x=(design_region_length+waveguide_length)/2, y=arm_separation/2), material=Si, size=mp.Vector3(waveguide_length, waveguide_width, 0)), # top right waveguide\n",
    "        mp.Block(center=mp.Vector3(x=(design_region_length+waveguide_length)/2, y=-arm_separation/2), material=Si, size=mp.Vector3(waveguide_length, waveguide_width, 0)), # bottom right waveguide\n",
    "        mp.Block(center=design_region.center, size=design_region.size, material=design_variables)\n",
    "    ]\n",
    "\n",
    "\n",
    "\n",
    "\n",
    "\n",
    "    src = mp.GaussianSource(frequency=fcen,fwidth=fwidth)\n",
    "    source = [mp.EigenModeSource(src,\n",
    "                        eig_band = 1,\n",
    "                        direction=mp.NO_DIRECTION,\n",
    "                        eig_kpoint=kpoint,\n",
    "                        size = source_size,\n",
    "                        center=source_center1)]\n",
    "\n",
    "\n",
    "\n",
    "    sim = mp.Simulation(cell_size=cell_size,\n",
    "                        boundary_layers=pml_layers,\n",
    "                        geometry=geometry,\n",
    "                        sources=source,\n",
    "                        #symmetries=[mp.Mirror(direction=mp.Y)],\n",
    "                        default_material=mp.air,\n",
    "                        resolution=resolution)\n",
    "\n",
    "\n",
    "\n",
    "    mode = 1\n",
    "\n",
    "    TE0 = mpa.EigenmodeCoefficient(sim,\n",
    "            mp.Volume(center=mp.Vector3(x=-(Sx/2 - pml_size - 0.4), y=arm_separation/2),\n",
    "                size=source_size),mode)\n",
    "    TE_top = mpa.EigenmodeCoefficient(sim,\n",
    "            mp.Volume(center=mp.Vector3(-(-Sx/2 + pml_size + 0.4),arm_separation/2,0),\n",
    "                size=source_size),mode)\n",
    "    TE_bottom = mpa.EigenmodeCoefficient(sim,\n",
    "            mp.Volume(center=mp.Vector3(-(-Sx/2 + pml_size + 0.4),-arm_separation/2,0),\n",
    "                size=source_size),mode)\n",
    "    ob_list = [TE0,TE_top,TE_bottom]\n",
    "\n",
    "    def J(source,top_output,bottom_output):\n",
    "        power = npa.abs(top_output/source) **2 + npa.abs(bottom_output/source) **2\n",
    "        return power\n",
    "\n",
    "    opt = mpa.OptimizationProblem(\n",
    "        simulation = sim,\n",
    "        objective_functions = J,\n",
    "        objective_arguments = ob_list,\n",
    "        design_regions = [design_region],\n",
    "        frequencies=frequencies\n",
    "    )\n",
    "    return opt, geometry\n"
   ]
  },
  {
   "cell_type": "code",
   "execution_count": null,
   "metadata": {},
   "outputs": [],
   "source": [
    "final_sim,geometry=dc_final_design_sim(beta=betas[-1])\n",
    "final_sim.plot2D(True)"
   ]
  },
  {
   "cell_type": "code",
   "execution_count": null,
   "metadata": {},
   "outputs": [],
   "source": [
    "f0, dJ_du = final_sim([mapping(x[1:],eta_i,betas[-1])],need_gradient = False)\n",
    "frequencies = final_sim.frequencies\n",
    "source_coef, top_coef, bottom_coef = final_sim.get_objective_arguments()\n",
    "\n"
   ]
  },
  {
   "cell_type": "code",
   "execution_count": null,
   "metadata": {},
   "outputs": [],
   "source": [
    "top_profile = np.abs(top_coef/source_coef) ** 2\n",
    "bottom_profile = np.abs(bottom_coef/source_coef) ** 2\n",
    "\n",
    "# top_profile = np.abs(top_coef) ** 2/ input_flux\n",
    "# bottom_profile = np.abs(bottom_coef) ** 2 / input_flux"
   ]
  },
  {
   "cell_type": "code",
   "execution_count": null,
   "metadata": {},
   "outputs": [],
   "source": [
    "plt.figure()\n",
    "plt.plot(1/frequencies,top_profile*100,'-o' ,label = 'Top Arm')\n",
    "plt.plot(1/frequencies,bottom_profile*100,'--o',label = 'Bottom Arm')\n",
    "plt.legend()\n",
    "plt.grid(True)\n",
    "plt.xlabel('Wavelength (microns)')\n",
    "plt.ylabel('Power Splitting Ratio (%)')\n",
    "#plt.ylim(46.5,50)\n",
    "plt.show()"
   ]
  },
  {
   "cell_type": "code",
   "execution_count": null,
   "metadata": {},
   "outputs": [],
   "source": [
    "plt.figure()\n",
    "plt.plot(1/frequencies,1-(np.abs(top_coef) ** 2 + np.abs(bottom_coef) ** 2)/np.abs(source_coef) ** 2,'-o' ,label = 'Insertion loss')\n",
    "plt.legend()\n",
    "plt.grid(True)\n",
    "plt.xlabel('Wavelength (microns)')\n",
    "plt.ylabel('Insertion loss')\n",
    "#plt.ylim(46.5,50)\n",
    "plt.show()"
   ]
  },
  {
   "cell_type": "code",
   "execution_count": null,
   "metadata": {},
   "outputs": [],
   "source": [
    "plt.figure()\n",
    "plt.plot(1/frequencies,(np.abs(top_coef) ** 2 / np.abs(bottom_coef) ** 2) ** 2,'-o' ,label = 'Output ration')\n",
    "plt.legend()\n",
    "plt.grid(True)\n",
    "plt.xlabel('Wavelength (microns)')\n",
    "plt.ylabel('Output power ration')\n",
    "#plt.ylim(46.5,50)\n",
    "plt.show()"
   ]
  },
  {
   "cell_type": "code",
   "execution_count": null,
   "metadata": {},
   "outputs": [],
   "source": [
    "src = mp.ContinuousSource(frequency=1 / 1.55, fwidth=fwidth)\n",
    "source = [\n",
    "    mp.EigenModeSource(\n",
    "        src,\n",
    "        eig_band=1,\n",
    "        direction=mp.NO_DIRECTION,\n",
    "        eig_kpoint=kpoint,\n",
    "        size=source_size,\n",
    "        center=source_center1,\n",
    "    )\n",
    "]\n",
    "final_sim.sim.change_sources(source)\n",
    "final_sim.sim.run(until=500)\n",
    "final_sim.sim.plot2D(fields=mp.Ez)"
   ]
  },
  {
   "cell_type": "code",
   "execution_count": null,
   "metadata": {},
   "outputs": [],
   "source": [
    "sim = mp.Simulation(cell_size=cell_size,\n",
    "                    boundary_layers=pml_layers,\n",
    "                    geometry=geometry,\n",
    "                    sources=source,\n",
    "                    #symmetries=[mp.Mirror(direction=mp.Y)],\n",
    "                    default_material=mp.air,\n",
    "                    resolution=resolution)"
   ]
  },
  {
   "cell_type": "code",
   "execution_count": null,
   "metadata": {},
   "outputs": [],
   "source": [
    "plt.figure(dpi=100)\n",
    "sim.plot2D()\n",
    "plt.show()"
   ]
  },
  {
   "cell_type": "code",
   "execution_count": null,
   "metadata": {},
   "outputs": [],
   "source": [
    "sim.run(until=300)\n"
   ]
  },
  {
   "cell_type": "code",
   "execution_count": null,
   "metadata": {},
   "outputs": [],
   "source": [
    "plt.figure(dpi=120)\n",
    "sim.plot2D(fields=mp.Ez)\n",
    "plt.show()"
   ]
  },
  {
   "cell_type": "code",
   "execution_count": null,
   "metadata": {},
   "outputs": [],
   "source": [
    "sim.reset_meep()\n",
    "f = plt.figure(dpi=100)\n",
    "Animate = mp.Animate2D(fields=mp.Ez, f=f, realtime=False, normalize=True)\n",
    "plt.close()"
   ]
  },
  {
   "cell_type": "code",
   "execution_count": null,
   "metadata": {},
   "outputs": [],
   "source": [
    "sim.run(mp.at_every(1, Animate), until=150)\n",
    "plt.close()"
   ]
  },
  {
   "cell_type": "code",
   "execution_count": null,
   "metadata": {},
   "outputs": [],
   "source": [
    "filename = \"dc_glc_1s.mp4\"\n",
    "Animate.to_mp4(10, filename)"
   ]
  },
  {
   "cell_type": "code",
   "execution_count": null,
   "metadata": {},
   "outputs": [],
   "source": [
    "Video(filename)\n"
   ]
  },
  {
   "cell_type": "code",
   "execution_count": null,
   "metadata": {},
   "outputs": [],
   "source": [
    "src = mp.ContinuousSource(frequency=1 / 1.55, fwidth=fwidth)\n",
    "sources = [mp.EigenModeSource(src,\n",
    "                    eig_band = 1,\n",
    "                    direction=mp.NO_DIRECTION,\n",
    "                    eig_kpoint=kpoint,\n",
    "                    size = source_size,\n",
    "                    center=source_center1,\n",
    "                    amplitude=1.0),\n",
    "            mp.EigenModeSource(\n",
    "                    src,\n",
    "                    eig_band=1,\n",
    "                    direction=mp.NO_DIRECTION,\n",
    "                    eig_kpoint=kpoint,\n",
    "                    size=source_size,\n",
    "                    center=source_center2,\n",
    "                    amplitude=0.0 - 1.0j\n",
    "    )]"
   ]
  },
  {
   "cell_type": "code",
   "execution_count": null,
   "metadata": {},
   "outputs": [],
   "source": [
    "sim = mp.Simulation(cell_size=cell_size,\n",
    "                    boundary_layers=pml_layers,\n",
    "                    geometry=geometry,\n",
    "                    sources=sources,\n",
    "                    #symmetries=[mp.Mirror(direction=mp.Y)],\n",
    "                    default_material=mp.air,\n",
    "                    resolution=resolution)\n",
    "\n",
    "plt.figure(dpi=100)\n",
    "sim.plot2D()\n",
    "plt.show()"
   ]
  },
  {
   "cell_type": "code",
   "execution_count": null,
   "metadata": {},
   "outputs": [],
   "source": [
    "sim.run(until=300)\n"
   ]
  },
  {
   "cell_type": "code",
   "execution_count": null,
   "metadata": {},
   "outputs": [],
   "source": [
    "plt.figure(dpi=120)\n",
    "sim.plot2D(fields=mp.Ez)\n",
    "plt.show()"
   ]
  },
  {
   "cell_type": "code",
   "execution_count": null,
   "metadata": {},
   "outputs": [],
   "source": [
    "sim.reset_meep()\n",
    "f = plt.figure(dpi=100)\n",
    "Animate = mp.Animate2D(fields=mp.Ez, f=f, realtime=False, normalize=True)\n",
    "plt.close()"
   ]
  },
  {
   "cell_type": "code",
   "execution_count": null,
   "metadata": {},
   "outputs": [],
   "source": [
    "sim.run(mp.at_every(1, Animate), until=300)\n",
    "plt.close()"
   ]
  },
  {
   "cell_type": "code",
   "execution_count": null,
   "metadata": {},
   "outputs": [],
   "source": [
    "filename = \"dc_glc_2s.mp4\"\n",
    "Animate.to_mp4(10, filename)"
   ]
  },
  {
   "cell_type": "code",
   "execution_count": null,
   "metadata": {},
   "outputs": [],
   "source": [
    "Video(filename)\n"
   ]
  },
  {
   "cell_type": "code",
   "execution_count": null,
   "metadata": {},
   "outputs": [],
   "source": []
  },
  {
   "cell_type": "code",
   "execution_count": null,
   "metadata": {},
   "outputs": [],
   "source": []
  },
  {
   "cell_type": "code",
   "execution_count": null,
   "metadata": {},
   "outputs": [],
   "source": []
  }
 ],
 "metadata": {
  "kernelspec": {
   "display_name": "meep",
   "language": "python",
   "name": "python3"
  },
  "language_info": {
   "codemirror_mode": {
    "name": "ipython",
    "version": 3
   },
   "file_extension": ".py",
   "mimetype": "text/x-python",
   "name": "python",
   "nbconvert_exporter": "python",
   "pygments_lexer": "ipython3",
   "version": "3.11.4"
  },
  "orig_nbformat": 4
 },
 "nbformat": 4,
 "nbformat_minor": 2
}
