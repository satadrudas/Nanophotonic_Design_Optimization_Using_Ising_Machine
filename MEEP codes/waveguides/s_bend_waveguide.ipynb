{
 "cells": [
  {
   "attachments": {},
   "cell_type": "markdown",
   "metadata": {},
   "source": [
    "#  Waveguides of different bends"
   ]
  },
  {
   "cell_type": "code",
   "execution_count": 2,
   "metadata": {},
   "outputs": [
    {
     "name": "stdout",
     "output_type": "stream",
     "text": [
      "1.27.0\n"
     ]
    },
    {
     "data": {
      "text/plain": [
       "Verbosity: level=1"
      ]
     },
     "execution_count": 2,
     "metadata": {},
     "output_type": "execute_result"
    }
   ],
   "source": [
    "import meep as mp\n",
    "from meep import mpb\n",
    "print(mp.__version__)\n",
    "import meep.adjoint as mpa\n",
    "import math\n",
    "import numpy as np\n",
    "from autograd import numpy as npa\n",
    "from matplotlib import pyplot as plt\n",
    "from IPython.display import Video\n",
    "\n",
    "\n",
    "mp.Verbosity(0)"
   ]
  },
  {
   "attachments": {},
   "cell_type": "markdown",
   "metadata": {},
   "source": [
    "## S-bend"
   ]
  },
  {
   "cell_type": "code",
   "execution_count": 3,
   "metadata": {},
   "outputs": [],
   "source": [
    "geometry=[]\n",
    "\n",
    "# the following functions are to be appended to an empty geometry=[]\n",
    "\n",
    "class center():\n",
    "    def __init__(self, x, y, z):\n",
    "        self.x = x\n",
    "        self.y = y\n",
    "        self.z = z\n",
    "\n",
    "\n",
    "def s_bend(design=0,center=center(0,0,0),bend_radius=5, turn_angle=np.pi/2,mid_section_waveguide_length=0, waveguide_width=0.5, waveguide_height=0.22, waveguide_material=mp.Medium(index=3.45), cladding_material=mp.air):\n",
    "\n",
    "    # design 0 is for top eft to bottom right, and 1 is for bottom left to top right\n",
    "    \n",
    "    block_height= mid_section_waveguide_length * np.sin(turn_angle) + 2*(bend_radius - bend_radius*np.cos(turn_angle)) + waveguide_width\n",
    "    block_width= mid_section_waveguide_length * np.cos(turn_angle) + 2* bend_radius* np.sin(turn_angle)  \n",
    "\n",
    "\n",
    "    # inner_circle_x=r*sin(theta)\n",
    "    # inner_circle_y=r*cos(theta)\n",
    "    # y is given, so x = r*sin(cosinv(y/r))\n",
    "\n",
    "    # ____________\n",
    "    # |          |\n",
    "    # |   /      |\n",
    "    # |_ /_______|\n",
    "    # | /\n",
    "    # |/\n",
    "\n",
    "\n",
    "    #the main block\n",
    "    geometry.append(mp.Block(material=Si, center=mp.Vector3(center.x,center.y,center.z), size=mp.Vector3(block_width, block_height)))\n",
    "\n",
    "    offset=waveguide_width *np.cos(turn_angle)/2\n",
    "\n",
    "    if(design==0):\n",
    "\n",
    "        #top left inner circle\n",
    "        y=0\n",
    "        inner_bend_radius=bend_radius-waveguide_width/2\n",
    "        while(y+(inner_bend_radius)*np.cos(turn_angle) < inner_bend_radius):\n",
    "            x = inner_bend_radius * np.sin(np.arccos((y+(inner_bend_radius)*np.cos(turn_angle)  )/inner_bend_radius))\n",
    "            geometry.append(mp.Block(material=mp.air, center=mp.Vector3(-(block_width/2)+(x)/2+center.x,y+center.y-offset,center.z), size=mp.Vector3(x,1/resolution)))\n",
    "            y=y+1/(2*resolution) # this multiplying by 2 removes the black strip  error\n",
    "\n",
    "        # bottom right inner circle\n",
    "        y=0\n",
    "        inner_bend_radius=bend_radius-waveguide_width/2\n",
    "        while(y+(inner_bend_radius)*np.cos(turn_angle) < inner_bend_radius):\n",
    "            x = inner_bend_radius * np.sin(np.arccos((y+(inner_bend_radius)*np.cos(turn_angle)  )/inner_bend_radius))\n",
    "            geometry.append(mp.Block(material=mp.air, center=mp.Vector3((block_width/2)-(x)/2+center.x,-y+center.y+offset,center.z), size=mp.Vector3(x,1/resolution)))\n",
    "            y=y+1/(2*resolution) # this multiplying by 2 removes the black strip  error  \n",
    "\n",
    "        # top right outer portion\n",
    "        y=0\n",
    "        outer_bend_radius=bend_radius+waveguide_width/2\n",
    "        while(y+(outer_bend_radius)*np.cos(turn_angle) < outer_bend_radius):\n",
    "            x = block_width - (outer_bend_radius * np.sin(np.arccos((y+(outer_bend_radius)*np.cos(turn_angle)  )/outer_bend_radius)))\n",
    "            geometry.append(mp.Block(material=mp.air, center=mp.Vector3((block_width/2)-(x)/2+center.x,y+center.y+offset,center.z), size=mp.Vector3(x,1/resolution)))\n",
    "            y=y+1/(2*resolution) # this multiplying by 2 removes the black strip  error\n",
    "\n",
    "        # bottom left outer portion\n",
    "        y=0\n",
    "        outer_bend_radius=bend_radius+waveguide_width/2\n",
    "        while(y+(outer_bend_radius)*np.cos(turn_angle) < outer_bend_radius):\n",
    "            x = block_width - (outer_bend_radius * np.sin(np.arccos((y+(outer_bend_radius)*np.cos(turn_angle)  )/outer_bend_radius)))\n",
    "            geometry.append(mp.Block(material=mp.air, center=mp.Vector3(-(block_width/2)+(x)/2+center.x,-y+center.y-offset,center.z), size=mp.Vector3(x,1/resolution)))\n",
    "            y=y+1/(2*resolution) # this multiplying by 2 removes the black strip  error\n",
    "\n",
    "    \n",
    "\n",
    "\n",
    "    #reference waveguide\n",
    "    # xx=4\n",
    "    # geometry.append (mp.Block(center=mp.Vector3(-(block_width/2+xx/2)-2/resolution,block_height/2-waveguide_width/2,0),\n",
    "    #                     size=mp.Vector3(xx,waveguide_width,waveguide_height),\n",
    "    #                     material=Si))\n",
    "\n",
    "    if(design==1):\n",
    "\n",
    "\n",
    "        # bottom left inner circle\n",
    "        y=0\n",
    "        inner_bend_radius=bend_radius-waveguide_width/2\n",
    "        while(y+(inner_bend_radius)*np.cos(turn_angle) < inner_bend_radius):\n",
    "            x = inner_bend_radius * np.sin(np.arccos((y+(inner_bend_radius)*np.cos(turn_angle)  )/inner_bend_radius))\n",
    "            geometry.append(mp.Block(material=mp.air, center=mp.Vector3(-(block_width/2)+(x)/2+center.x,-y+center.y+offset,center.z), size=mp.Vector3(x,1/resolution)))\n",
    "            y=y+1/resolution   \n",
    "\n",
    "\n",
    "        # top right inner circle\n",
    "        y=0\n",
    "        inner_bend_radius=bend_radius-waveguide_width/2\n",
    "        while(y+(inner_bend_radius)*np.cos(turn_angle) < inner_bend_radius):\n",
    "            x = inner_bend_radius * np.sin(np.arccos((y+(inner_bend_radius)*np.cos(turn_angle)  )/inner_bend_radius))\n",
    "            geometry.append(mp.Block(material=mp.air, center=mp.Vector3((block_width/2)-(x)/2+center.x,y+center.y-offset,center.z), size=mp.Vector3(x,1/resolution)))\n",
    "            y=y+1/resolution\n",
    "\n",
    "        # top left outer portion\n",
    "        y=0\n",
    "        outer_bend_radius=bend_radius+waveguide_width/2\n",
    "        while(y+(outer_bend_radius)*np.cos(turn_angle) < outer_bend_radius):\n",
    "            x = block_width - (outer_bend_radius * np.sin(np.arccos((y+(outer_bend_radius)*np.cos(turn_angle)  )/outer_bend_radius)))\n",
    "            geometry.append(mp.Block(material=mp.air, center=mp.Vector3(-(block_width/2)+(x)/2+center.x,y+center.y+offset,center.z), size=mp.Vector3(x,1/resolution)))\n",
    "            y=y+1/(2*resolution) # this multiplying by 2 removes the black strip  error\n",
    "\n",
    "        # bottom right outer portion\n",
    "        y=0\n",
    "        outer_bend_radius=bend_radius+waveguide_width/2\n",
    "        while(y+(outer_bend_radius)*np.cos(turn_angle) < outer_bend_radius):\n",
    "            x = block_width - (outer_bend_radius * np.sin(np.arccos((y+(outer_bend_radius)*np.cos(turn_angle)  )/outer_bend_radius)))\n",
    "            geometry.append(mp.Block(material=mp.air, center=mp.Vector3((block_width/2)-(x)/2+center.x,-y+center.y-offset,center.z), size=mp.Vector3(x,1/resolution)))\n",
    "            y=y+1/(2*resolution) # this multiplying by 2 removes the black strip  error   \n",
    "\n",
    "    \n",
    "\n",
    "\n"
   ]
  },
  {
   "cell_type": "code",
   "execution_count": 4,
   "metadata": {},
   "outputs": [],
   "source": [
    "\n",
    "resolution=100\n",
    "nSi = 3.45\n",
    "Si = mp.Medium(index=nSi)\n",
    "nSiO2 = 1.45\n",
    "SiO2 = mp.Medium(index=nSiO2)\n",
    "\n",
    "sxy = 10\n",
    "sz = 4\n",
    "cell_size = mp.Vector3(sxy,sxy,sz)\n",
    "\n",
    "geometry = []\n",
    "s_bend(design=1,center=center(0,0,0),bend_radius=4, turn_angle=np.pi/3,mid_section_waveguide_length=0, waveguide_width=0.5, waveguide_height=0.22, waveguide_material=mp.Medium(index=3.45), cladding_material=mp.air)\n",
    "\n",
    "\n",
    "dpml = 1.0\n",
    "boundary_layers = [mp.PML(dpml)]\n",
    "\n",
    "# mode frequency\n",
    "fcen = 1/1.55\n",
    "\n",
    "sources = [mp.EigenModeSource(src=mp.GaussianSource(fcen, fwidth=0.2*fcen),\n",
    "                              size=mp.Vector3(0,0,0),\n",
    "                              center=mp.Vector3(-0.5*sxy+dpml+1.5,0,0),\n",
    "                              eig_match_freq=True,\n",
    "                              eig_parity=mp.ODD_Y)]\n",
    "\n",
    "\n",
    "\n",
    "\n",
    "\n",
    "sim = mp.Simulation(resolution=resolution,\n",
    "                    cell_size=cell_size,\n",
    "                    boundary_layers=boundary_layers,\n",
    "                    geometry=geometry,\n",
    "                    sources=sources,\n",
    "                    dimensions=3)"
   ]
  },
  {
   "cell_type": "code",
   "execution_count": 5,
   "metadata": {},
   "outputs": [
    {
     "name": "stdout",
     "output_type": "stream",
     "text": [
      "     block, center = (0,0,0)\n",
      "          size (6.9282,4.5,0)\n",
      "          axes (1,0,0), (0,1,0), (0,0,1)\n",
      "          dielectric constant epsilon diagonal = (11.9025,11.9025,11.9025)\n",
      "     block, center = (-1.8403,0.125,0)\n",
      "          size (3.2476,0.01,0)\n",
      "          axes (1,0,0), (0,1,0), (0,0,1)\n",
      "          dielectric constant epsilon diagonal = (1,1,1)\n",
      "     block, center = (-1.8432,0.115,0)\n",
      "          size (3.2418,0.01,0)\n",
      "          axes (1,0,0), (0,1,0), (0,0,1)\n",
      "          dielectric constant epsilon diagonal = (1,1,1)\n",
      "     block, center = (-1.84612,0.105,0)\n",
      "          size (3.23597,0.01,0)\n",
      "          axes (1,0,0), (0,1,0), (0,0,1)\n",
      "          dielectric constant epsilon diagonal = (1,1,1)\n",
      "     block, center = (-1.84906,0.095,0)\n",
      "          size (3.23009,0.01,0)\n",
      "          axes (1,0,0), (0,1,0), (0,0,1)\n",
      "          dielectric constant epsilon diagonal = (1,1,1)\n",
      "     block, center = (-1.85202,0.085,0)\n",
      "          size (3.22417,0.01,0)\n",
      "          axes (1,0,0), (0,1,0), (0,0,1)\n",
      "          dielectric constant epsilon diagonal = (1,1,1)\n",
      "     block, center = (-1.855,0.075,0)\n",
      "          size (3.21821,0.01,0)\n",
      "          axes (1,0,0), (0,1,0), (0,0,1)\n",
      "          dielectric constant epsilon diagonal = (1,1,1)\n",
      "     block, center = (-1.858,0.065,0)\n",
      "          size (3.21221,0.01,0)\n",
      "          axes (1,0,0), (0,1,0), (0,0,1)\n",
      "          dielectric constant epsilon diagonal = (1,1,1)\n",
      "     block, center = (-1.86102,0.055,0)\n",
      "          size (3.20616,0.01,0)\n",
      "          axes (1,0,0), (0,1,0), (0,0,1)\n",
      "          dielectric constant epsilon diagonal = (1,1,1)\n",
      "     block, center = (-1.86406,0.045,0)\n",
      "          size (3.20007,0.01,0)\n",
      "          axes (1,0,0), (0,1,0), (0,0,1)\n",
      "          dielectric constant epsilon diagonal = (1,1,1)\n"
     ]
    },
    {
     "name": "stdout",
     "output_type": "stream",
     "text": [
      "     ...(+ 1219 objects not shown)...\n"
     ]
    },
    {
     "data": {
      "text/plain": [
       "<Axes: xlabel='X', ylabel='Y'>"
      ]
     },
     "execution_count": 5,
     "metadata": {},
     "output_type": "execute_result"
    },
    {
     "data": {
      "image/png": "[encoded data removed]",
      "text/plain": [
       "<Figure size 640x480 with 1 Axes>"
      ]
     },
     "metadata": {},
     "output_type": "display_data"
    }
   ],
   "source": [
    "sim.plot2D(\n",
    "    output_plane = mp.Volume(\n",
    "        center = mp.Vector3(z=0.0),\n",
    "        size = mp.Vector3(x=sxy,y=sxy)\n",
    "    ))"
   ]
  },
  {
   "cell_type": "code",
   "execution_count": null,
   "metadata": {},
   "outputs": [],
   "source": []
  },
  {
   "attachments": {},
   "cell_type": "markdown",
   "metadata": {},
   "source": [
    "## Circular arc waveguide"
   ]
  },
  {
   "attachments": {},
   "cell_type": "markdown",
   "metadata": {},
   "source": []
  }
 ],
 "metadata": {
  "kernelspec": {
   "display_name": "meep",
   "language": "python",
   "name": "python3"
  },
  "language_info": {
   "codemirror_mode": {
    "name": "ipython",
    "version": 3
   },
   "file_extension": ".py",
   "mimetype": "text/x-python",
   "name": "python",
   "nbconvert_exporter": "python",
   "pygments_lexer": "ipython3",
   "version": "3.11.4"
  },
  "orig_nbformat": 4
 },
 "nbformat": 4,
 "nbformat_minor": 2
}
